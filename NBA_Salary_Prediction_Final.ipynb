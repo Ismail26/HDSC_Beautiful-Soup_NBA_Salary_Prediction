{
 "cells": [
  {
   "cell_type": "markdown",
   "id": "11eb796f",
   "metadata": {},
   "source": [
    "# HDSC Winter ‘23 Premiere Project\n",
    "## Presentation: NBA Players’ Salaries Prediction\n",
    "### by Beautiful Soup Group"
   ]
  },
  {
   "cell_type": "markdown",
   "id": "af799cd4",
   "metadata": {},
   "source": [
    "#### Introduction:\n",
    "The National Basketball Association (NBA) is a men’s professional basketball league in North America consisting of 30 teams, 29 from North America and one from Canada. It was founded in 1946. NBA is known for its talented players and at season players are paid. \n",
    "The NBA players' dataset comprises different basketball players alongside their salaries from the 2019 to 2025 season each in a range of one which can vary greatly depending on a variety of factors, such as their experience, performance, position, and the team they play for."
   ]
  },
  {
   "cell_type": "code",
   "execution_count": 2,
   "id": "e5d6473d",
   "metadata": {},
   "outputs": [],
   "source": [
    "# Import the necessary libraries\n",
    "\n",
    "import numpy as np\n",
    "import pandas as pd\n",
    "import matplotlib.pyplot as plt\n",
    "import seaborn as sb\n",
    "from sklearn.preprocessing import StandardScaler\n",
    "from sklearn.preprocessing import OneHotEncoder\n",
    "from sklearn.preprocessing import LabelEncoder\n",
    "sb.set_style(\"darkgrid\")"
   ]
  },
  {
   "cell_type": "code",
   "execution_count": 3,
   "id": "5d4721d5",
   "metadata": {},
   "outputs": [
    {
     "data": {
      "text/html": [
       "<div>\n",
       "<style scoped>\n",
       "    .dataframe tbody tr th:only-of-type {\n",
       "        vertical-align: middle;\n",
       "    }\n",
       "\n",
       "    .dataframe tbody tr th {\n",
       "        vertical-align: top;\n",
       "    }\n",
       "\n",
       "    .dataframe thead th {\n",
       "        text-align: right;\n",
       "    }\n",
       "</style>\n",
       "<table border=\"1\" class=\"dataframe\">\n",
       "  <thead>\n",
       "    <tr style=\"text-align: right;\">\n",
       "      <th></th>\n",
       "      <th>Rk</th>\n",
       "      <th>Player</th>\n",
       "      <th>Tm</th>\n",
       "      <th>2019-20</th>\n",
       "      <th>2020-21</th>\n",
       "      <th>2021-22</th>\n",
       "      <th>2022-23</th>\n",
       "      <th>2023-24</th>\n",
       "      <th>2024-25</th>\n",
       "      <th>Signed Using</th>\n",
       "      <th>Guaranteed</th>\n",
       "    </tr>\n",
       "  </thead>\n",
       "  <tbody>\n",
       "    <tr>\n",
       "      <th>0</th>\n",
       "      <td>1</td>\n",
       "      <td>Stephen Curry\\curryst01</td>\n",
       "      <td>GSW</td>\n",
       "      <td>40231758.00 $</td>\n",
       "      <td>43006362.00 $</td>\n",
       "      <td>45780966.00 $</td>\n",
       "      <td>NaN</td>\n",
       "      <td>NaN</td>\n",
       "      <td>NaN</td>\n",
       "      <td>Bird Rights</td>\n",
       "      <td>129019086.00 $</td>\n",
       "    </tr>\n",
       "    <tr>\n",
       "      <th>1</th>\n",
       "      <td>2</td>\n",
       "      <td>Chris Paul\\paulch01</td>\n",
       "      <td>OKC</td>\n",
       "      <td>38506482.00 $</td>\n",
       "      <td>41358814.00 $</td>\n",
       "      <td>44211146.00 $</td>\n",
       "      <td>NaN</td>\n",
       "      <td>NaN</td>\n",
       "      <td>NaN</td>\n",
       "      <td>Bird Rights</td>\n",
       "      <td>79865296.00 $</td>\n",
       "    </tr>\n",
       "    <tr>\n",
       "      <th>2</th>\n",
       "      <td>3</td>\n",
       "      <td>Russell Westbrook\\westbru01</td>\n",
       "      <td>HOU</td>\n",
       "      <td>38178000.00 $</td>\n",
       "      <td>41006000.00 $</td>\n",
       "      <td>43848000.00 $</td>\n",
       "      <td>46662000.00 $</td>\n",
       "      <td>NaN</td>\n",
       "      <td>NaN</td>\n",
       "      <td>Bird Rights</td>\n",
       "      <td>123032000.00 $</td>\n",
       "    </tr>\n",
       "    <tr>\n",
       "      <th>3</th>\n",
       "      <td>4</td>\n",
       "      <td>John Wall\\walljo01</td>\n",
       "      <td>WAS</td>\n",
       "      <td>37800000.00 $</td>\n",
       "      <td>40824000.00 $</td>\n",
       "      <td>43848000.00 $</td>\n",
       "      <td>46872000.00 $</td>\n",
       "      <td>NaN</td>\n",
       "      <td>NaN</td>\n",
       "      <td>Bird Rights</td>\n",
       "      <td>122472000.00 $</td>\n",
       "    </tr>\n",
       "    <tr>\n",
       "      <th>4</th>\n",
       "      <td>5</td>\n",
       "      <td>James Harden\\hardeja01</td>\n",
       "      <td>HOU</td>\n",
       "      <td>37800000.00 $</td>\n",
       "      <td>40824000.00 $</td>\n",
       "      <td>43848000.00 $</td>\n",
       "      <td>46872000.00 $</td>\n",
       "      <td>NaN</td>\n",
       "      <td>NaN</td>\n",
       "      <td>Bird Rights</td>\n",
       "      <td>122472000.00 $</td>\n",
       "    </tr>\n",
       "  </tbody>\n",
       "</table>\n",
       "</div>"
      ],
      "text/plain": [
       "   Rk                       Player   Tm        2019-20        2020-21  \\\n",
       "0   1      Stephen Curry\\curryst01  GSW  40231758.00 $  43006362.00 $   \n",
       "1   2          Chris Paul\\paulch01  OKC  38506482.00 $  41358814.00 $   \n",
       "2   3  Russell Westbrook\\westbru01  HOU  38178000.00 $  41006000.00 $   \n",
       "3   4           John Wall\\walljo01  WAS  37800000.00 $  40824000.00 $   \n",
       "4   5       James Harden\\hardeja01  HOU  37800000.00 $  40824000.00 $   \n",
       "\n",
       "         2021-22        2022-23 2023-24 2024-25 Signed Using      Guaranteed  \n",
       "0  45780966.00 $            NaN     NaN     NaN  Bird Rights  129019086.00 $  \n",
       "1  44211146.00 $            NaN     NaN     NaN  Bird Rights   79865296.00 $  \n",
       "2  43848000.00 $  46662000.00 $     NaN     NaN  Bird Rights  123032000.00 $  \n",
       "3  43848000.00 $  46872000.00 $     NaN     NaN  Bird Rights  122472000.00 $  \n",
       "4  43848000.00 $  46872000.00 $     NaN     NaN  Bird Rights  122472000.00 $  "
      ]
     },
     "execution_count": 3,
     "metadata": {},
     "output_type": "execute_result"
    }
   ],
   "source": [
    "# set display options\n",
    "pd.set_option('display.max_columns', None)\n",
    "pd.set_option('display.max_rows', None)\n",
    "\n",
    "# load the data\n",
    "nba_df=pd.read_csv('NBA Players Salaries 1920.csv')\n",
    "nba_df.head()"
   ]
  },
  {
   "cell_type": "markdown",
   "id": "16a61b1e",
   "metadata": {},
   "source": [
    "## Assessing the Data"
   ]
  },
  {
   "cell_type": "code",
   "execution_count": 4,
   "id": "ae3c9abf",
   "metadata": {},
   "outputs": [
    {
     "data": {
      "text/plain": [
       "(568, 11)"
      ]
     },
     "execution_count": 4,
     "metadata": {},
     "output_type": "execute_result"
    }
   ],
   "source": [
    "# shape of the data\n",
    "nba_df.shape"
   ]
  },
  {
   "cell_type": "code",
   "execution_count": 5,
   "id": "cb11a152",
   "metadata": {},
   "outputs": [
    {
     "name": "stdout",
     "output_type": "stream",
     "text": [
      "<class 'pandas.core.frame.DataFrame'>\n",
      "RangeIndex: 568 entries, 0 to 567\n",
      "Data columns (total 11 columns):\n",
      " #   Column        Non-Null Count  Dtype \n",
      "---  ------        --------------  ----- \n",
      " 0   Rk            568 non-null    int64 \n",
      " 1   Player        568 non-null    object\n",
      " 2   Tm            568 non-null    object\n",
      " 3   2019-20       568 non-null    object\n",
      " 4   2020-21       349 non-null    object\n",
      " 5   2021-22       206 non-null    object\n",
      " 6   2022-23       96 non-null     object\n",
      " 7   2023-24       21 non-null     object\n",
      " 8   2024-25       3 non-null      object\n",
      " 9   Signed Using  455 non-null    object\n",
      " 10  Guaranteed    568 non-null    object\n",
      "dtypes: int64(1), object(10)\n",
      "memory usage: 48.9+ KB\n"
     ]
    }
   ],
   "source": [
    "# gives information about the dataset\n",
    "nba_df.info()"
   ]
  },
  {
   "cell_type": "code",
   "execution_count": 6,
   "id": "fcee4bc6",
   "metadata": {},
   "outputs": [
    {
     "data": {
      "text/plain": [
       "Rk               0.000000\n",
       "Player           0.000000\n",
       "Tm               0.000000\n",
       "2019-20          0.000000\n",
       "2020-21         38.556338\n",
       "2021-22         63.732394\n",
       "2022-23         83.098592\n",
       "2023-24         96.302817\n",
       "2024-25         99.471831\n",
       "Signed Using    19.894366\n",
       "Guaranteed       0.000000\n",
       "dtype: float64"
      ]
     },
     "execution_count": 6,
     "metadata": {},
     "output_type": "execute_result"
    }
   ],
   "source": [
    "# check percentage of null value in each column\n",
    "nba_df.isna().sum()/len(nba_df)*100 "
   ]
  },
  {
   "cell_type": "code",
   "execution_count": 7,
   "id": "38fa7c9e",
   "metadata": {},
   "outputs": [
    {
     "data": {
      "text/plain": [
       "0"
      ]
     },
     "execution_count": 7,
     "metadata": {},
     "output_type": "execute_result"
    }
   ],
   "source": [
    "# check for duplicate rows\n",
    "nba_df.duplicated().sum()"
   ]
  },
  {
   "cell_type": "code",
   "execution_count": 8,
   "id": "6f3ce4c2",
   "metadata": {},
   "outputs": [
    {
     "data": {
      "text/plain": [
       "1st Round Pick         104\n",
       "Minimum Salary          98\n",
       "Cap Space               68\n",
       "MLE                     54\n",
       "Bird Rights             44\n",
       "Cap space               22\n",
       "1st Round pick          22\n",
       "Room Exception          15\n",
       "Sign and Trade          10\n",
       "Early Bird Rights        9\n",
       "Non-Bird Exception       2\n",
       "Bi-annual Exception      2\n",
       "1st round pick           1\n",
       "Maximum Salary           1\n",
       "Bi-Annual Exception      1\n",
       "DPE                      1\n",
       "MInimum Salary           1\n",
       "Name: Signed Using, dtype: int64"
      ]
     },
     "execution_count": 8,
     "metadata": {},
     "output_type": "execute_result"
    }
   ],
   "source": [
    "# checking the value count of type of contract signed by the player\n",
    "nba_df['Signed Using'].value_counts()"
   ]
  },
  {
   "cell_type": "markdown",
   "id": "90acabb2",
   "metadata": {},
   "source": [
    "### Observations from assessing the data: \n",
    "After assessing the data, it was observed that:\n",
    "* The data comprise of 568 observations and 11 columns. \n",
    "* Out of the 11 columns, 6 columns had missing values. \n",
    "* Three (3) of the columns (2022-23, 2023-24, 2024-25) above had over 80% of missing data.\n",
    "* Some of the values from the 'signed using'column are repeated but seen as a different values due to cases used, all categorical varibales will be converted to lowercase.\n",
    "* Salary variables are in category data type and will be converted to float datatype.\n",
    "* Dollar sign contained in the salary columns, this will be removed.\n",
    "\n",
    "The following issues will be addressed in the data cleaning section"
   ]
  },
  {
   "cell_type": "markdown",
   "id": "a0f50fde",
   "metadata": {},
   "source": [
    "### Data Cleaning"
   ]
  },
  {
   "cell_type": "markdown",
   "id": "87267e21",
   "metadata": {},
   "source": [
    "#### 1. converting categorical columns to lowercase"
   ]
  },
  {
   "cell_type": "code",
   "execution_count": 9,
   "id": "333c6cc1",
   "metadata": {},
   "outputs": [],
   "source": [
    "# converting categorical columns to lowercase\n",
    "nba_df=nba_df.apply(lambda x: x.str.lower() if x.dtype=='object' else x)"
   ]
  },
  {
   "cell_type": "markdown",
   "id": "e7797715",
   "metadata": {},
   "source": [
    "#### 2. Dropping columns with over 80% of missing values"
   ]
  },
  {
   "cell_type": "code",
   "execution_count": 10,
   "id": "57464895",
   "metadata": {},
   "outputs": [],
   "source": [
    "drop_col=['2022-23','2023-24','2024-25']\n",
    "nba_df.drop(drop_col, axis=1, inplace=True)"
   ]
  },
  {
   "cell_type": "markdown",
   "id": "d6014baa",
   "metadata": {},
   "source": [
    "#### 3. Removing the dollar sign from the salary columns and converting the datatype to float"
   ]
  },
  {
   "cell_type": "code",
   "execution_count": 11,
   "id": "cc2c8217",
   "metadata": {},
   "outputs": [],
   "source": [
    "float_col=['2019-20','2020-21','2021-22','Guaranteed']\n",
    "for col in float_col:\n",
    "    pd.options.display.float_format='{:,.2f}'.format\n",
    "    nba_df[col]=nba_df[col].str[:-2].astype(float)"
   ]
  },
  {
   "cell_type": "markdown",
   "id": "abcb8205",
   "metadata": {},
   "source": [
    "#### 4. Replacing missing values in '2020-21' and '2021-22' column with the mean value of that column."
   ]
  },
  {
   "cell_type": "code",
   "execution_count": 12,
   "id": "9689dba6",
   "metadata": {},
   "outputs": [],
   "source": [
    "# let rectify col with null value\n",
    "null_num_col=float_col[1:]\n",
    "null_num_col=null_num_col[:-1]"
   ]
  },
  {
   "cell_type": "code",
   "execution_count": 13,
   "id": "50fdc9b4",
   "metadata": {},
   "outputs": [],
   "source": [
    "null_obj_col=nba_df.select_dtypes('object').columns\n",
    "null_obj_col=null_obj_col[:-1]"
   ]
  },
  {
   "cell_type": "code",
   "execution_count": 14,
   "id": "c8a80d80",
   "metadata": {},
   "outputs": [],
   "source": [
    "for col in nba_df.columns:\n",
    "    if col in (null_num_col):\n",
    "        mean=nba_df[col].mean()\n",
    "        nba_df[col]=nba_df[col].fillna(mean)\n",
    "#     elif col in (null_obj_col):\n",
    "#         mode=nba_df[col].mode()\n",
    "#         nba_df[col]=nba_df[col].fillna(mode)\n",
    "#     else:\n",
    "#         nba_df[col]=nba_df[col]"
   ]
  },
  {
   "cell_type": "code",
   "execution_count": 59,
   "id": "8fcee1b8",
   "metadata": {},
   "outputs": [
    {
     "data": {
      "text/html": [
       "<div>\n",
       "<style scoped>\n",
       "    .dataframe tbody tr th:only-of-type {\n",
       "        vertical-align: middle;\n",
       "    }\n",
       "\n",
       "    .dataframe tbody tr th {\n",
       "        vertical-align: top;\n",
       "    }\n",
       "\n",
       "    .dataframe thead th {\n",
       "        text-align: right;\n",
       "    }\n",
       "</style>\n",
       "<table border=\"1\" class=\"dataframe\">\n",
       "  <thead>\n",
       "    <tr style=\"text-align: right;\">\n",
       "      <th></th>\n",
       "      <th>Rank</th>\n",
       "      <th>Player</th>\n",
       "      <th>Team</th>\n",
       "      <th>2019-20</th>\n",
       "      <th>2020-21</th>\n",
       "      <th>2021-22</th>\n",
       "      <th>Signed Using</th>\n",
       "      <th>Guaranteed</th>\n",
       "    </tr>\n",
       "  </thead>\n",
       "  <tbody>\n",
       "    <tr>\n",
       "      <th>420</th>\n",
       "      <td>421</td>\n",
       "      <td>184</td>\n",
       "      <td>20</td>\n",
       "      <td>1,416,852.00</td>\n",
       "      <td>1,663,861.00</td>\n",
       "      <td>11,534,705.22</td>\n",
       "      <td>8</td>\n",
       "      <td>1,416,852.00</td>\n",
       "    </tr>\n",
       "    <tr>\n",
       "      <th>117</th>\n",
       "      <td>118</td>\n",
       "      <td>19</td>\n",
       "      <td>20</td>\n",
       "      <td>10,740,741.00</td>\n",
       "      <td>9,384,835.40</td>\n",
       "      <td>11,534,705.22</td>\n",
       "      <td>2</td>\n",
       "      <td>10,740,741.00</td>\n",
       "    </tr>\n",
       "    <tr>\n",
       "      <th>513</th>\n",
       "      <td>514</td>\n",
       "      <td>488</td>\n",
       "      <td>6</td>\n",
       "      <td>229,220.00</td>\n",
       "      <td>9,384,835.40</td>\n",
       "      <td>11,534,705.22</td>\n",
       "      <td>7</td>\n",
       "      <td>229,220.00</td>\n",
       "    </tr>\n",
       "    <tr>\n",
       "      <th>549</th>\n",
       "      <td>550</td>\n",
       "      <td>266</td>\n",
       "      <td>21</td>\n",
       "      <td>81,678.00</td>\n",
       "      <td>9,384,835.40</td>\n",
       "      <td>11,534,705.22</td>\n",
       "      <td>0</td>\n",
       "      <td>81,678.00</td>\n",
       "    </tr>\n",
       "    <tr>\n",
       "      <th>3</th>\n",
       "      <td>4</td>\n",
       "      <td>252</td>\n",
       "      <td>29</td>\n",
       "      <td>37,800,000.00</td>\n",
       "      <td>40,824,000.00</td>\n",
       "      <td>43,848,000.00</td>\n",
       "      <td>2</td>\n",
       "      <td>122,472,000.00</td>\n",
       "    </tr>\n",
       "    <tr>\n",
       "      <th>87</th>\n",
       "      <td>88</td>\n",
       "      <td>155</td>\n",
       "      <td>10</td>\n",
       "      <td>14,057,730.00</td>\n",
       "      <td>16,869,276.00</td>\n",
       "      <td>18,218,818.00</td>\n",
       "      <td>3</td>\n",
       "      <td>68,714,184.00</td>\n",
       "    </tr>\n",
       "    <tr>\n",
       "      <th>217</th>\n",
       "      <td>218</td>\n",
       "      <td>116</td>\n",
       "      <td>19</td>\n",
       "      <td>4,463,640.00</td>\n",
       "      <td>5,686,677.00</td>\n",
       "      <td>11,534,705.22</td>\n",
       "      <td>0</td>\n",
       "      <td>10,150,317.00</td>\n",
       "    </tr>\n",
       "  </tbody>\n",
       "</table>\n",
       "</div>"
      ],
      "text/plain": [
       "     Rank  Player  Team       2019-20       2020-21       2021-22  \\\n",
       "420   421     184    20  1,416,852.00  1,663,861.00 11,534,705.22   \n",
       "117   118      19    20 10,740,741.00  9,384,835.40 11,534,705.22   \n",
       "513   514     488     6    229,220.00  9,384,835.40 11,534,705.22   \n",
       "549   550     266    21     81,678.00  9,384,835.40 11,534,705.22   \n",
       "3       4     252    29 37,800,000.00 40,824,000.00 43,848,000.00   \n",
       "87     88     155    10 14,057,730.00 16,869,276.00 18,218,818.00   \n",
       "217   218     116    19  4,463,640.00  5,686,677.00 11,534,705.22   \n",
       "\n",
       "     Signed Using     Guaranteed  \n",
       "420             8   1,416,852.00  \n",
       "117             2  10,740,741.00  \n",
       "513             7     229,220.00  \n",
       "549             0      81,678.00  \n",
       "3               2 122,472,000.00  \n",
       "87              3  68,714,184.00  \n",
       "217             0  10,150,317.00  "
      ]
     },
     "execution_count": 59,
     "metadata": {},
     "output_type": "execute_result"
    }
   ],
   "source": [
    "# print out a sample of the data\n",
    "nba_df.sample(7)"
   ]
  },
  {
   "cell_type": "markdown",
   "id": "014f349e",
   "metadata": {},
   "source": [
    "#### 5. Replacing the missing value is the Signed Using column with the mode"
   ]
  },
  {
   "cell_type": "code",
   "execution_count": 16,
   "id": "bdab6764",
   "metadata": {},
   "outputs": [
    {
     "data": {
      "text/plain": [
       "'1st round pick'"
      ]
     },
     "execution_count": 16,
     "metadata": {},
     "output_type": "execute_result"
    }
   ],
   "source": [
    "mode=nba_df['Signed Using'].value_counts().index[0]\n",
    "mode"
   ]
  },
  {
   "cell_type": "code",
   "execution_count": 17,
   "id": "ad845b8a",
   "metadata": {},
   "outputs": [],
   "source": [
    "# replacing missing value with the mode\n",
    "nba_df['Signed Using']=nba_df['Signed Using'].fillna(mode)"
   ]
  },
  {
   "cell_type": "code",
   "execution_count": 18,
   "id": "cc7cf063",
   "metadata": {},
   "outputs": [
    {
     "data": {
      "text/plain": [
       "Rk             0.00\n",
       "Player         0.00\n",
       "Tm             0.00\n",
       "2019-20        0.00\n",
       "2020-21        0.00\n",
       "2021-22        0.00\n",
       "Signed Using   0.00\n",
       "Guaranteed     0.00\n",
       "dtype: float64"
      ]
     },
     "execution_count": 18,
     "metadata": {},
     "output_type": "execute_result"
    }
   ],
   "source": [
    "# check for missing values\n",
    "nba_df.isna().sum()/len(nba_df)*100"
   ]
  },
  {
   "cell_type": "markdown",
   "id": "d36037d6",
   "metadata": {},
   "source": [
    "#### 6. Rename inconsistent column name for better understanding"
   ]
  },
  {
   "cell_type": "code",
   "execution_count": 19,
   "id": "25456a8e",
   "metadata": {},
   "outputs": [
    {
     "data": {
      "text/plain": [
       "Index(['Rank', 'Player', 'Team', '2019-20', '2020-21', '2021-22',\n",
       "       'Signed Using', 'Guaranteed'],\n",
       "      dtype='object')"
      ]
     },
     "execution_count": 19,
     "metadata": {},
     "output_type": "execute_result"
    }
   ],
   "source": [
    "# rename columns\n",
    "nba_df.rename(columns = {'Tm':'Team', 'Rk':'Rank'}, inplace=True)\n",
    "nba_df.columns"
   ]
  },
  {
   "cell_type": "code",
   "execution_count": 20,
   "id": "d0e9d5fd",
   "metadata": {},
   "outputs": [
    {
     "data": {
      "text/html": [
       "<div>\n",
       "<style scoped>\n",
       "    .dataframe tbody tr th:only-of-type {\n",
       "        vertical-align: middle;\n",
       "    }\n",
       "\n",
       "    .dataframe tbody tr th {\n",
       "        vertical-align: top;\n",
       "    }\n",
       "\n",
       "    .dataframe thead th {\n",
       "        text-align: right;\n",
       "    }\n",
       "</style>\n",
       "<table border=\"1\" class=\"dataframe\">\n",
       "  <thead>\n",
       "    <tr style=\"text-align: right;\">\n",
       "      <th></th>\n",
       "      <th>Rank</th>\n",
       "      <th>Player</th>\n",
       "      <th>Team</th>\n",
       "      <th>2019-20</th>\n",
       "      <th>2020-21</th>\n",
       "      <th>2021-22</th>\n",
       "      <th>Signed Using</th>\n",
       "      <th>Guaranteed</th>\n",
       "    </tr>\n",
       "  </thead>\n",
       "  <tbody>\n",
       "    <tr>\n",
       "      <th>0</th>\n",
       "      <td>1</td>\n",
       "      <td>stephen curry\\curryst01</td>\n",
       "      <td>gsw</td>\n",
       "      <td>40,231,758.00</td>\n",
       "      <td>43,006,362.00</td>\n",
       "      <td>45,780,966.00</td>\n",
       "      <td>bird rights</td>\n",
       "      <td>129,019,086.00</td>\n",
       "    </tr>\n",
       "    <tr>\n",
       "      <th>1</th>\n",
       "      <td>2</td>\n",
       "      <td>chris paul\\paulch01</td>\n",
       "      <td>okc</td>\n",
       "      <td>38,506,482.00</td>\n",
       "      <td>41,358,814.00</td>\n",
       "      <td>44,211,146.00</td>\n",
       "      <td>bird rights</td>\n",
       "      <td>79,865,296.00</td>\n",
       "    </tr>\n",
       "    <tr>\n",
       "      <th>2</th>\n",
       "      <td>3</td>\n",
       "      <td>russell westbrook\\westbru01</td>\n",
       "      <td>hou</td>\n",
       "      <td>38,178,000.00</td>\n",
       "      <td>41,006,000.00</td>\n",
       "      <td>43,848,000.00</td>\n",
       "      <td>bird rights</td>\n",
       "      <td>123,032,000.00</td>\n",
       "    </tr>\n",
       "    <tr>\n",
       "      <th>3</th>\n",
       "      <td>4</td>\n",
       "      <td>john wall\\walljo01</td>\n",
       "      <td>was</td>\n",
       "      <td>37,800,000.00</td>\n",
       "      <td>40,824,000.00</td>\n",
       "      <td>43,848,000.00</td>\n",
       "      <td>bird rights</td>\n",
       "      <td>122,472,000.00</td>\n",
       "    </tr>\n",
       "    <tr>\n",
       "      <th>4</th>\n",
       "      <td>5</td>\n",
       "      <td>james harden\\hardeja01</td>\n",
       "      <td>hou</td>\n",
       "      <td>37,800,000.00</td>\n",
       "      <td>40,824,000.00</td>\n",
       "      <td>43,848,000.00</td>\n",
       "      <td>bird rights</td>\n",
       "      <td>122,472,000.00</td>\n",
       "    </tr>\n",
       "  </tbody>\n",
       "</table>\n",
       "</div>"
      ],
      "text/plain": [
       "   Rank                       Player Team       2019-20       2020-21  \\\n",
       "0     1      stephen curry\\curryst01  gsw 40,231,758.00 43,006,362.00   \n",
       "1     2          chris paul\\paulch01  okc 38,506,482.00 41,358,814.00   \n",
       "2     3  russell westbrook\\westbru01  hou 38,178,000.00 41,006,000.00   \n",
       "3     4           john wall\\walljo01  was 37,800,000.00 40,824,000.00   \n",
       "4     5       james harden\\hardeja01  hou 37,800,000.00 40,824,000.00   \n",
       "\n",
       "        2021-22 Signed Using     Guaranteed  \n",
       "0 45,780,966.00  bird rights 129,019,086.00  \n",
       "1 44,211,146.00  bird rights  79,865,296.00  \n",
       "2 43,848,000.00  bird rights 123,032,000.00  \n",
       "3 43,848,000.00  bird rights 122,472,000.00  \n",
       "4 43,848,000.00  bird rights 122,472,000.00  "
      ]
     },
     "execution_count": 20,
     "metadata": {},
     "output_type": "execute_result"
    }
   ],
   "source": [
    "nba_df.head()"
   ]
  },
  {
   "cell_type": "markdown",
   "id": "5625c6c9",
   "metadata": {},
   "source": [
    "### Assessing Cleaned Data"
   ]
  },
  {
   "cell_type": "code",
   "execution_count": 21,
   "id": "a4223c0c",
   "metadata": {},
   "outputs": [
    {
     "data": {
      "text/plain": [
       "Rank            0\n",
       "Player          0\n",
       "Team            0\n",
       "2019-20         0\n",
       "2020-21         0\n",
       "2021-22         0\n",
       "Signed Using    0\n",
       "Guaranteed      0\n",
       "dtype: int64"
      ]
     },
     "execution_count": 21,
     "metadata": {},
     "output_type": "execute_result"
    }
   ],
   "source": [
    "# check for missing value\n",
    "nba_df.isnull().sum()"
   ]
  },
  {
   "cell_type": "code",
   "execution_count": 22,
   "id": "992bbc16",
   "metadata": {},
   "outputs": [
    {
     "data": {
      "text/html": [
       "<div>\n",
       "<style scoped>\n",
       "    .dataframe tbody tr th:only-of-type {\n",
       "        vertical-align: middle;\n",
       "    }\n",
       "\n",
       "    .dataframe tbody tr th {\n",
       "        vertical-align: top;\n",
       "    }\n",
       "\n",
       "    .dataframe thead th {\n",
       "        text-align: right;\n",
       "    }\n",
       "</style>\n",
       "<table border=\"1\" class=\"dataframe\">\n",
       "  <thead>\n",
       "    <tr style=\"text-align: right;\">\n",
       "      <th></th>\n",
       "      <th>Rank</th>\n",
       "      <th>2019-20</th>\n",
       "      <th>2020-21</th>\n",
       "      <th>2021-22</th>\n",
       "      <th>Guaranteed</th>\n",
       "    </tr>\n",
       "  </thead>\n",
       "  <tbody>\n",
       "    <tr>\n",
       "      <th>count</th>\n",
       "      <td>568.00</td>\n",
       "      <td>568.00</td>\n",
       "      <td>568.00</td>\n",
       "      <td>568.00</td>\n",
       "      <td>568.00</td>\n",
       "    </tr>\n",
       "    <tr>\n",
       "      <th>mean</th>\n",
       "      <td>284.50</td>\n",
       "      <td>6,665,744.71</td>\n",
       "      <td>9,384,835.40</td>\n",
       "      <td>11,534,705.22</td>\n",
       "      <td>17,253,835.12</td>\n",
       "    </tr>\n",
       "    <tr>\n",
       "      <th>std</th>\n",
       "      <td>164.11</td>\n",
       "      <td>8,631,016.61</td>\n",
       "      <td>7,937,920.81</td>\n",
       "      <td>7,170,666.94</td>\n",
       "      <td>32,356,449.28</td>\n",
       "    </tr>\n",
       "    <tr>\n",
       "      <th>min</th>\n",
       "      <td>1.00</td>\n",
       "      <td>50,000.00</td>\n",
       "      <td>92,857.00</td>\n",
       "      <td>92,857.00</td>\n",
       "      <td>50,000.00</td>\n",
       "    </tr>\n",
       "    <tr>\n",
       "      <th>25%</th>\n",
       "      <td>142.75</td>\n",
       "      <td>1,416,852.00</td>\n",
       "      <td>3,613,944.50</td>\n",
       "      <td>11,534,705.22</td>\n",
       "      <td>1,618,520.00</td>\n",
       "    </tr>\n",
       "    <tr>\n",
       "      <th>50%</th>\n",
       "      <td>284.50</td>\n",
       "      <td>2,625,359.00</td>\n",
       "      <td>9,384,835.40</td>\n",
       "      <td>11,534,705.22</td>\n",
       "      <td>4,771,380.00</td>\n",
       "    </tr>\n",
       "    <tr>\n",
       "      <th>75%</th>\n",
       "      <td>426.25</td>\n",
       "      <td>8,583,322.00</td>\n",
       "      <td>9,384,835.40</td>\n",
       "      <td>11,534,705.22</td>\n",
       "      <td>15,799,540.00</td>\n",
       "    </tr>\n",
       "    <tr>\n",
       "      <th>max</th>\n",
       "      <td>568.00</td>\n",
       "      <td>40,231,758.00</td>\n",
       "      <td>43,006,362.00</td>\n",
       "      <td>45,780,966.00</td>\n",
       "      <td>257,429,274.00</td>\n",
       "    </tr>\n",
       "  </tbody>\n",
       "</table>\n",
       "</div>"
      ],
      "text/plain": [
       "        Rank       2019-20       2020-21       2021-22     Guaranteed\n",
       "count 568.00        568.00        568.00        568.00         568.00\n",
       "mean  284.50  6,665,744.71  9,384,835.40 11,534,705.22  17,253,835.12\n",
       "std   164.11  8,631,016.61  7,937,920.81  7,170,666.94  32,356,449.28\n",
       "min     1.00     50,000.00     92,857.00     92,857.00      50,000.00\n",
       "25%   142.75  1,416,852.00  3,613,944.50 11,534,705.22   1,618,520.00\n",
       "50%   284.50  2,625,359.00  9,384,835.40 11,534,705.22   4,771,380.00\n",
       "75%   426.25  8,583,322.00  9,384,835.40 11,534,705.22  15,799,540.00\n",
       "max   568.00 40,231,758.00 43,006,362.00 45,780,966.00 257,429,274.00"
      ]
     },
     "execution_count": 22,
     "metadata": {},
     "output_type": "execute_result"
    }
   ],
   "source": [
    "nba_df.describe()"
   ]
  },
  {
   "cell_type": "markdown",
   "id": "6e73ad19",
   "metadata": {},
   "source": [
    "### Exploratory Data Analysis"
   ]
  },
  {
   "cell_type": "code",
   "execution_count": 23,
   "id": "725c65e5",
   "metadata": {},
   "outputs": [
    {
     "data": {
      "image/png": "[encoded data removed]",
      "text/plain": [
       "<Figure size 1008x504 with 6 Axes>"
      ]
     },
     "metadata": {
      "needs_background": "light"
     },
     "output_type": "display_data"
    }
   ],
   "source": [
    "# plot histogram of numerical data\n",
    "nba_df.hist(figsize=(14,7));"
   ]
  },
  {
   "cell_type": "markdown",
   "id": "4bccd436",
   "metadata": {},
   "source": [
    "#### Relationship between the Rank of the Player and the Salary of the Player"
   ]
  },
  {
   "cell_type": "code",
   "execution_count": 57,
   "id": "6276df7d",
   "metadata": {},
   "outputs": [
    {
     "data": {
      "image/png": "[encoded data removed]",
      "text/plain": [
       "<Figure size 432x288 with 1 Axes>"
      ]
     },
     "metadata": {
      "needs_background": "light"
     },
     "output_type": "display_data"
    }
   ],
   "source": [
    "sb.scatterplot(y='Rank', x='2019-20', data=nba_df)\n",
    "plt.title('Salaries of Players (2019-20 Season) by Players rank');"
   ]
  },
  {
   "cell_type": "markdown",
   "id": "85d23db0",
   "metadata": {},
   "source": [
    "* From the plot above, it can be deduced that the salaries of players have a negative correlation with the rank of the player.\n",
    "* A player ranked as 1 has the highest salary while least ranked players have lower salaries. "
   ]
  },
  {
   "cell_type": "code",
   "execution_count": 25,
   "id": "5e7c9082",
   "metadata": {},
   "outputs": [
    {
     "name": "stderr",
     "output_type": "stream",
     "text": [
      "C:\\Users\\HP\\AppData\\Local\\Temp/ipykernel_2924/2031356526.py:2: FutureWarning: Dropping of nuisance columns in DataFrame reductions (with 'numeric_only=None') is deprecated; in a future version this will raise TypeError.  Select only valid columns before calling the reduction.\n",
      "  nba_df.skew().sort_values(ascending=False)\n"
     ]
    },
    {
     "data": {
      "text/plain": [
       "Guaranteed   3.32\n",
       "2021-22      2.19\n",
       "2020-21      1.93\n",
       "2019-20      1.87\n",
       "Rank         0.00\n",
       "dtype: float64"
      ]
     },
     "execution_count": 25,
     "metadata": {},
     "output_type": "execute_result"
    }
   ],
   "source": [
    "# check the skewness of the variables\n",
    "nba_df.skew().sort_values(ascending=False)"
   ]
  },
  {
   "cell_type": "code",
   "execution_count": 26,
   "id": "92842b27",
   "metadata": {},
   "outputs": [
    {
     "data": {
      "image/png": "[encoded data removed]",
      "text/plain": [
       "<Figure size 432x288 with 2 Axes>"
      ]
     },
     "metadata": {
      "needs_background": "light"
     },
     "output_type": "display_data"
    }
   ],
   "source": [
    "# show the correlation between the variables\n",
    "sb.heatmap(nba_df.corr(), cmap='coolwarm',annot=True);"
   ]
  },
  {
   "cell_type": "code",
   "execution_count": 27,
   "id": "b599fc79",
   "metadata": {},
   "outputs": [],
   "source": [
    "# check for outliers in columns\n",
    "\n",
    "def outliers_check():\n",
    "    col_store=[]\n",
    "    \n",
    "    for col in nba_df.select_dtypes('number'):\n",
    "        q1=nba_df[col].quantile(.25)\n",
    "        q3=nba_df[col].quantile(.75)\n",
    "        \n",
    "        iqr=q3-q1\n",
    "        lower_out=(nba_df[col] < (q1-(1.5*iqr))).sum()\n",
    "        upper_out=(nba_df[col] > (q3 + (1.5 *iqr))).sum()\n",
    "        \n",
    "        if lower_out > 0 or upper_out >0:\n",
    "            col_store.append(col)\n",
    "    return col_store"
   ]
  },
  {
   "cell_type": "code",
   "execution_count": 28,
   "id": "866c2d8f",
   "metadata": {},
   "outputs": [
    {
     "data": {
      "text/plain": [
       "['2019-20', '2020-21', '2021-22', 'Guaranteed']"
      ]
     },
     "execution_count": 28,
     "metadata": {},
     "output_type": "execute_result"
    }
   ],
   "source": [
    "outlier_col=outliers_check()\n",
    "outlier_col"
   ]
  },
  {
   "cell_type": "code",
   "execution_count": 29,
   "id": "47f1f3fd",
   "metadata": {},
   "outputs": [
    {
     "data": {
      "image/png": "[encoded data removed]",
      "text/plain": [
       "<Figure size 720x504 with 1 Axes>"
      ]
     },
     "metadata": {
      "needs_background": "light"
     },
     "output_type": "display_data"
    }
   ],
   "source": [
    "plt.figure(figsize=(10,7))\n",
    "sb.boxplot(data=nba_df[outlier_col])\n",
    "plt.title('Outliers columns distribution');"
   ]
  },
  {
   "cell_type": "markdown",
   "id": "c9c3c729",
   "metadata": {},
   "source": [
    "#### Average salary paid to the player by Signed using in the year 2019-2020"
   ]
  },
  {
   "cell_type": "code",
   "execution_count": 30,
   "id": "7c6c2d65",
   "metadata": {},
   "outputs": [
    {
     "data": {
      "text/html": [
       "<div>\n",
       "<style scoped>\n",
       "    .dataframe tbody tr th:only-of-type {\n",
       "        vertical-align: middle;\n",
       "    }\n",
       "\n",
       "    .dataframe tbody tr th {\n",
       "        vertical-align: top;\n",
       "    }\n",
       "\n",
       "    .dataframe thead th {\n",
       "        text-align: right;\n",
       "    }\n",
       "</style>\n",
       "<table border=\"1\" class=\"dataframe\">\n",
       "  <thead>\n",
       "    <tr style=\"text-align: right;\">\n",
       "      <th></th>\n",
       "      <th>Signed Using</th>\n",
       "      <th>Rank</th>\n",
       "      <th>2019-20</th>\n",
       "      <th>2020-21</th>\n",
       "      <th>2021-22</th>\n",
       "      <th>Guaranteed</th>\n",
       "    </tr>\n",
       "  </thead>\n",
       "  <tbody>\n",
       "    <tr>\n",
       "      <th>6</th>\n",
       "      <td>maximum salary</td>\n",
       "      <td>10.00</td>\n",
       "      <td>33,005,556.00</td>\n",
       "      <td>35,450,412.00</td>\n",
       "      <td>37,895,268.00</td>\n",
       "      <td>68,455,968.00</td>\n",
       "    </tr>\n",
       "    <tr>\n",
       "      <th>11</th>\n",
       "      <td>sign and trade</td>\n",
       "      <td>71.10</td>\n",
       "      <td>21,553,396.60</td>\n",
       "      <td>20,821,232.04</td>\n",
       "      <td>21,657,126.82</td>\n",
       "      <td>66,837,576.40</td>\n",
       "    </tr>\n",
       "    <tr>\n",
       "      <th>2</th>\n",
       "      <td>bird rights</td>\n",
       "      <td>72.23</td>\n",
       "      <td>20,528,337.61</td>\n",
       "      <td>20,154,661.31</td>\n",
       "      <td>20,478,783.89</td>\n",
       "      <td>60,265,020.95</td>\n",
       "    </tr>\n",
       "    <tr>\n",
       "      <th>3</th>\n",
       "      <td>cap space</td>\n",
       "      <td>170.50</td>\n",
       "      <td>12,016,712.74</td>\n",
       "      <td>11,608,434.99</td>\n",
       "      <td>12,108,163.83</td>\n",
       "      <td>22,356,945.61</td>\n",
       "    </tr>\n",
       "    <tr>\n",
       "      <th>5</th>\n",
       "      <td>early bird rights</td>\n",
       "      <td>180.67</td>\n",
       "      <td>6,970,167.56</td>\n",
       "      <td>8,193,093.24</td>\n",
       "      <td>10,913,677.28</td>\n",
       "      <td>12,643,888.89</td>\n",
       "    </tr>\n",
       "    <tr>\n",
       "      <th>0</th>\n",
       "      <td>1st round pick</td>\n",
       "      <td>310.58</td>\n",
       "      <td>4,681,595.52</td>\n",
       "      <td>8,683,456.65</td>\n",
       "      <td>10,431,902.79</td>\n",
       "      <td>15,164,076.85</td>\n",
       "    </tr>\n",
       "    <tr>\n",
       "      <th>10</th>\n",
       "      <td>room exception</td>\n",
       "      <td>225.13</td>\n",
       "      <td>4,311,837.40</td>\n",
       "      <td>5,144,683.99</td>\n",
       "      <td>11,534,705.22</td>\n",
       "      <td>6,657,116.67</td>\n",
       "    </tr>\n",
       "    <tr>\n",
       "      <th>9</th>\n",
       "      <td>non-bird exception</td>\n",
       "      <td>284.50</td>\n",
       "      <td>3,566,067.00</td>\n",
       "      <td>5,584,196.20</td>\n",
       "      <td>11,534,705.22</td>\n",
       "      <td>3,566,067.00</td>\n",
       "    </tr>\n",
       "    <tr>\n",
       "      <th>1</th>\n",
       "      <td>bi-annual exception</td>\n",
       "      <td>257.00</td>\n",
       "      <td>3,249,333.33</td>\n",
       "      <td>3,350,333.33</td>\n",
       "      <td>11,534,705.22</td>\n",
       "      <td>5,332,666.67</td>\n",
       "    </tr>\n",
       "    <tr>\n",
       "      <th>8</th>\n",
       "      <td>mle</td>\n",
       "      <td>363.41</td>\n",
       "      <td>2,660,790.63</td>\n",
       "      <td>4,537,110.11</td>\n",
       "      <td>7,723,901.04</td>\n",
       "      <td>6,262,407.33</td>\n",
       "    </tr>\n",
       "    <tr>\n",
       "      <th>4</th>\n",
       "      <td>dpe</td>\n",
       "      <td>369.00</td>\n",
       "      <td>1,750,000.00</td>\n",
       "      <td>9,384,835.40</td>\n",
       "      <td>11,534,705.22</td>\n",
       "      <td>1,750,000.00</td>\n",
       "    </tr>\n",
       "    <tr>\n",
       "      <th>7</th>\n",
       "      <td>minimum salary</td>\n",
       "      <td>418.96</td>\n",
       "      <td>1,409,572.21</td>\n",
       "      <td>6,513,269.27</td>\n",
       "      <td>10,558,036.00</td>\n",
       "      <td>1,853,336.05</td>\n",
       "    </tr>\n",
       "  </tbody>\n",
       "</table>\n",
       "</div>"
      ],
      "text/plain": [
       "           Signed Using   Rank       2019-20       2020-21       2021-22  \\\n",
       "6        maximum salary  10.00 33,005,556.00 35,450,412.00 37,895,268.00   \n",
       "11       sign and trade  71.10 21,553,396.60 20,821,232.04 21,657,126.82   \n",
       "2           bird rights  72.23 20,528,337.61 20,154,661.31 20,478,783.89   \n",
       "3             cap space 170.50 12,016,712.74 11,608,434.99 12,108,163.83   \n",
       "5     early bird rights 180.67  6,970,167.56  8,193,093.24 10,913,677.28   \n",
       "0        1st round pick 310.58  4,681,595.52  8,683,456.65 10,431,902.79   \n",
       "10       room exception 225.13  4,311,837.40  5,144,683.99 11,534,705.22   \n",
       "9    non-bird exception 284.50  3,566,067.00  5,584,196.20 11,534,705.22   \n",
       "1   bi-annual exception 257.00  3,249,333.33  3,350,333.33 11,534,705.22   \n",
       "8                   mle 363.41  2,660,790.63  4,537,110.11  7,723,901.04   \n",
       "4                   dpe 369.00  1,750,000.00  9,384,835.40 11,534,705.22   \n",
       "7        minimum salary 418.96  1,409,572.21  6,513,269.27 10,558,036.00   \n",
       "\n",
       "      Guaranteed  \n",
       "6  68,455,968.00  \n",
       "11 66,837,576.40  \n",
       "2  60,265,020.95  \n",
       "3  22,356,945.61  \n",
       "5  12,643,888.89  \n",
       "0  15,164,076.85  \n",
       "10  6,657,116.67  \n",
       "9   3,566,067.00  \n",
       "1   5,332,666.67  \n",
       "8   6,262,407.33  \n",
       "4   1,750,000.00  \n",
       "7   1,853,336.05  "
      ]
     },
     "execution_count": 30,
     "metadata": {},
     "output_type": "execute_result"
    }
   ],
   "source": [
    "average_salary_2020=nba_df.groupby('Signed Using', as_index=False).mean()\n",
    "average_salary_2020.sort_values(by='2019-20',ascending=False)"
   ]
  },
  {
   "cell_type": "code",
   "execution_count": 31,
   "id": "ebacfc6d",
   "metadata": {},
   "outputs": [
    {
     "data": {
      "image/png": "[encoded data removed]",
      "text/plain": [
       "<Figure size 432x288 with 1 Axes>"
      ]
     },
     "metadata": {
      "needs_background": "light"
     },
     "output_type": "display_data"
    }
   ],
   "source": [
    "color=sb.color_palette()[0]\n",
    "sb.barplot(data=average_salary_2020, x='Signed Using', y='2019-20',color=color);\n",
    "plt.xlabel('Contract_signed')\n",
    "plt.ylabel('Income earn 2019-20')\n",
    "plt.title('Income earned by players in 2019-20 based on the contract signed')\n",
    "plt.xticks(rotation=90);"
   ]
  },
  {
   "cell_type": "markdown",
   "id": "a766d469",
   "metadata": {},
   "source": [
    "#### Observation\n",
    "From the chat above signed using with value Maximum_salary has highest average income in year 2019-20"
   ]
  },
  {
   "cell_type": "code",
   "execution_count": 32,
   "id": "4c6df501",
   "metadata": {},
   "outputs": [
    {
     "data": {
      "text/html": [
       "<div>\n",
       "<style scoped>\n",
       "    .dataframe tbody tr th:only-of-type {\n",
       "        vertical-align: middle;\n",
       "    }\n",
       "\n",
       "    .dataframe tbody tr th {\n",
       "        vertical-align: top;\n",
       "    }\n",
       "\n",
       "    .dataframe thead th {\n",
       "        text-align: right;\n",
       "    }\n",
       "</style>\n",
       "<table border=\"1\" class=\"dataframe\">\n",
       "  <thead>\n",
       "    <tr style=\"text-align: right;\">\n",
       "      <th></th>\n",
       "      <th>Team</th>\n",
       "      <th>Rank</th>\n",
       "      <th>2019-20</th>\n",
       "      <th>2020-21</th>\n",
       "      <th>2021-22</th>\n",
       "      <th>Guaranteed</th>\n",
       "    </tr>\n",
       "  </thead>\n",
       "  <tbody>\n",
       "    <tr>\n",
       "      <th>22</th>\n",
       "      <td>phi</td>\n",
       "      <td>264.71</td>\n",
       "      <td>7,663,126.29</td>\n",
       "      <td>11,963,285.90</td>\n",
       "      <td>14,775,558.29</td>\n",
       "      <td>37,523,317.35</td>\n",
       "    </tr>\n",
       "    <tr>\n",
       "      <th>24</th>\n",
       "      <td>por</td>\n",
       "      <td>276.11</td>\n",
       "      <td>7,312,067.89</td>\n",
       "      <td>9,244,857.36</td>\n",
       "      <td>12,929,729.10</td>\n",
       "      <td>28,443,006.26</td>\n",
       "    </tr>\n",
       "    <tr>\n",
       "      <th>7</th>\n",
       "      <td>den</td>\n",
       "      <td>259.50</td>\n",
       "      <td>8,184,138.00</td>\n",
       "      <td>10,855,597.24</td>\n",
       "      <td>13,740,685.89</td>\n",
       "      <td>28,133,715.25</td>\n",
       "    </tr>\n",
       "    <tr>\n",
       "      <th>9</th>\n",
       "      <td>gsw</td>\n",
       "      <td>386.65</td>\n",
       "      <td>6,576,396.50</td>\n",
       "      <td>10,259,689.02</td>\n",
       "      <td>11,947,068.38</td>\n",
       "      <td>28,092,493.10</td>\n",
       "    </tr>\n",
       "    <tr>\n",
       "      <th>11</th>\n",
       "      <td>ind</td>\n",
       "      <td>226.00</td>\n",
       "      <td>7,169,282.88</td>\n",
       "      <td>9,510,045.26</td>\n",
       "      <td>10,864,986.72</td>\n",
       "      <td>25,110,165.25</td>\n",
       "    </tr>\n",
       "    <tr>\n",
       "      <th>17</th>\n",
       "      <td>min</td>\n",
       "      <td>253.50</td>\n",
       "      <td>8,282,040.31</td>\n",
       "      <td>8,348,303.72</td>\n",
       "      <td>10,474,064.66</td>\n",
       "      <td>23,270,042.12</td>\n",
       "    </tr>\n",
       "    <tr>\n",
       "      <th>1</th>\n",
       "      <td>bos</td>\n",
       "      <td>284.00</td>\n",
       "      <td>6,734,755.94</td>\n",
       "      <td>9,373,417.57</td>\n",
       "      <td>11,249,583.79</td>\n",
       "      <td>19,264,158.72</td>\n",
       "    </tr>\n",
       "    <tr>\n",
       "      <th>16</th>\n",
       "      <td>mil</td>\n",
       "      <td>264.48</td>\n",
       "      <td>6,429,805.95</td>\n",
       "      <td>9,426,867.04</td>\n",
       "      <td>11,817,677.10</td>\n",
       "      <td>19,170,995.52</td>\n",
       "    </tr>\n",
       "    <tr>\n",
       "      <th>10</th>\n",
       "      <td>hou</td>\n",
       "      <td>337.71</td>\n",
       "      <td>6,217,377.90</td>\n",
       "      <td>10,691,818.14</td>\n",
       "      <td>13,627,405.91</td>\n",
       "      <td>18,888,113.95</td>\n",
       "    </tr>\n",
       "    <tr>\n",
       "      <th>6</th>\n",
       "      <td>dal</td>\n",
       "      <td>249.67</td>\n",
       "      <td>6,783,170.89</td>\n",
       "      <td>9,140,565.47</td>\n",
       "      <td>11,079,803.51</td>\n",
       "      <td>18,632,011.28</td>\n",
       "    </tr>\n",
       "    <tr>\n",
       "      <th>2</th>\n",
       "      <td>brk</td>\n",
       "      <td>340.96</td>\n",
       "      <td>5,291,497.46</td>\n",
       "      <td>10,540,331.36</td>\n",
       "      <td>12,952,237.97</td>\n",
       "      <td>18,618,065.21</td>\n",
       "    </tr>\n",
       "    <tr>\n",
       "      <th>23</th>\n",
       "      <td>pho</td>\n",
       "      <td>266.06</td>\n",
       "      <td>6,727,377.00</td>\n",
       "      <td>8,334,312.13</td>\n",
       "      <td>10,743,987.18</td>\n",
       "      <td>18,250,891.17</td>\n",
       "    </tr>\n",
       "    <tr>\n",
       "      <th>21</th>\n",
       "      <td>orl</td>\n",
       "      <td>274.80</td>\n",
       "      <td>6,661,025.75</td>\n",
       "      <td>9,868,271.11</td>\n",
       "      <td>11,886,042.01</td>\n",
       "      <td>16,882,820.25</td>\n",
       "    </tr>\n",
       "    <tr>\n",
       "      <th>27</th>\n",
       "      <td>tor</td>\n",
       "      <td>305.00</td>\n",
       "      <td>6,839,344.83</td>\n",
       "      <td>9,475,368.25</td>\n",
       "      <td>11,554,802.40</td>\n",
       "      <td>16,805,076.33</td>\n",
       "    </tr>\n",
       "    <tr>\n",
       "      <th>28</th>\n",
       "      <td>uta</td>\n",
       "      <td>303.00</td>\n",
       "      <td>6,772,190.28</td>\n",
       "      <td>9,676,010.41</td>\n",
       "      <td>10,827,498.94</td>\n",
       "      <td>16,753,202.11</td>\n",
       "    </tr>\n",
       "    <tr>\n",
       "      <th>12</th>\n",
       "      <td>lac</td>\n",
       "      <td>261.29</td>\n",
       "      <td>7,868,460.76</td>\n",
       "      <td>10,111,669.73</td>\n",
       "      <td>12,509,384.35</td>\n",
       "      <td>15,897,362.47</td>\n",
       "    </tr>\n",
       "    <tr>\n",
       "      <th>26</th>\n",
       "      <td>sas</td>\n",
       "      <td>236.88</td>\n",
       "      <td>7,260,014.47</td>\n",
       "      <td>9,288,187.21</td>\n",
       "      <td>9,685,285.69</td>\n",
       "      <td>15,141,565.76</td>\n",
       "    </tr>\n",
       "    <tr>\n",
       "      <th>29</th>\n",
       "      <td>was</td>\n",
       "      <td>318.91</td>\n",
       "      <td>5,955,223.64</td>\n",
       "      <td>9,719,110.72</td>\n",
       "      <td>12,257,729.14</td>\n",
       "      <td>14,518,926.36</td>\n",
       "    </tr>\n",
       "    <tr>\n",
       "      <th>25</th>\n",
       "      <td>sac</td>\n",
       "      <td>288.86</td>\n",
       "      <td>5,603,805.76</td>\n",
       "      <td>9,957,254.75</td>\n",
       "      <td>12,048,161.07</td>\n",
       "      <td>14,319,942.48</td>\n",
       "    </tr>\n",
       "    <tr>\n",
       "      <th>20</th>\n",
       "      <td>okc</td>\n",
       "      <td>289.71</td>\n",
       "      <td>7,871,786.18</td>\n",
       "      <td>7,950,696.36</td>\n",
       "      <td>10,168,722.25</td>\n",
       "      <td>13,930,850.41</td>\n",
       "    </tr>\n",
       "    <tr>\n",
       "      <th>3</th>\n",
       "      <td>chi</td>\n",
       "      <td>224.25</td>\n",
       "      <td>7,166,602.12</td>\n",
       "      <td>8,976,370.47</td>\n",
       "      <td>9,845,469.30</td>\n",
       "      <td>13,922,436.31</td>\n",
       "    </tr>\n",
       "    <tr>\n",
       "      <th>15</th>\n",
       "      <td>mia</td>\n",
       "      <td>267.33</td>\n",
       "      <td>7,463,432.83</td>\n",
       "      <td>8,229,848.71</td>\n",
       "      <td>11,234,264.93</td>\n",
       "      <td>13,570,703.33</td>\n",
       "    </tr>\n",
       "    <tr>\n",
       "      <th>5</th>\n",
       "      <td>cle</td>\n",
       "      <td>359.48</td>\n",
       "      <td>5,238,012.76</td>\n",
       "      <td>9,309,374.81</td>\n",
       "      <td>9,838,865.01</td>\n",
       "      <td>12,429,085.80</td>\n",
       "    </tr>\n",
       "    <tr>\n",
       "      <th>18</th>\n",
       "      <td>nop</td>\n",
       "      <td>232.19</td>\n",
       "      <td>7,344,314.75</td>\n",
       "      <td>9,305,935.05</td>\n",
       "      <td>11,548,726.42</td>\n",
       "      <td>12,106,884.31</td>\n",
       "    </tr>\n",
       "    <tr>\n",
       "      <th>4</th>\n",
       "      <td>cho</td>\n",
       "      <td>265.00</td>\n",
       "      <td>7,774,946.69</td>\n",
       "      <td>8,579,786.71</td>\n",
       "      <td>9,264,799.45</td>\n",
       "      <td>12,076,521.81</td>\n",
       "    </tr>\n",
       "    <tr>\n",
       "      <th>14</th>\n",
       "      <td>mem</td>\n",
       "      <td>303.36</td>\n",
       "      <td>5,155,316.04</td>\n",
       "      <td>8,653,632.97</td>\n",
       "      <td>10,671,205.14</td>\n",
       "      <td>11,838,664.36</td>\n",
       "    </tr>\n",
       "    <tr>\n",
       "      <th>0</th>\n",
       "      <td>atl</td>\n",
       "      <td>287.35</td>\n",
       "      <td>5,718,886.00</td>\n",
       "      <td>8,131,855.92</td>\n",
       "      <td>10,431,799.40</td>\n",
       "      <td>11,266,322.25</td>\n",
       "    </tr>\n",
       "    <tr>\n",
       "      <th>13</th>\n",
       "      <td>lal</td>\n",
       "      <td>268.79</td>\n",
       "      <td>6,599,975.11</td>\n",
       "      <td>9,745,784.30</td>\n",
       "      <td>12,741,171.67</td>\n",
       "      <td>10,947,392.37</td>\n",
       "    </tr>\n",
       "    <tr>\n",
       "      <th>19</th>\n",
       "      <td>nyk</td>\n",
       "      <td>223.59</td>\n",
       "      <td>6,538,861.00</td>\n",
       "      <td>7,616,966.13</td>\n",
       "      <td>10,068,705.85</td>\n",
       "      <td>10,301,508.53</td>\n",
       "    </tr>\n",
       "    <tr>\n",
       "      <th>8</th>\n",
       "      <td>det</td>\n",
       "      <td>298.73</td>\n",
       "      <td>5,937,674.32</td>\n",
       "      <td>8,815,361.78</td>\n",
       "      <td>12,421,127.84</td>\n",
       "      <td>8,346,862.91</td>\n",
       "    </tr>\n",
       "  </tbody>\n",
       "</table>\n",
       "</div>"
      ],
      "text/plain": [
       "   Team   Rank      2019-20       2020-21       2021-22    Guaranteed\n",
       "22  phi 264.71 7,663,126.29 11,963,285.90 14,775,558.29 37,523,317.35\n",
       "24  por 276.11 7,312,067.89  9,244,857.36 12,929,729.10 28,443,006.26\n",
       "7   den 259.50 8,184,138.00 10,855,597.24 13,740,685.89 28,133,715.25\n",
       "9   gsw 386.65 6,576,396.50 10,259,689.02 11,947,068.38 28,092,493.10\n",
       "11  ind 226.00 7,169,282.88  9,510,045.26 10,864,986.72 25,110,165.25\n",
       "17  min 253.50 8,282,040.31  8,348,303.72 10,474,064.66 23,270,042.12\n",
       "1   bos 284.00 6,734,755.94  9,373,417.57 11,249,583.79 19,264,158.72\n",
       "16  mil 264.48 6,429,805.95  9,426,867.04 11,817,677.10 19,170,995.52\n",
       "10  hou 337.71 6,217,377.90 10,691,818.14 13,627,405.91 18,888,113.95\n",
       "6   dal 249.67 6,783,170.89  9,140,565.47 11,079,803.51 18,632,011.28\n",
       "2   brk 340.96 5,291,497.46 10,540,331.36 12,952,237.97 18,618,065.21\n",
       "23  pho 266.06 6,727,377.00  8,334,312.13 10,743,987.18 18,250,891.17\n",
       "21  orl 274.80 6,661,025.75  9,868,271.11 11,886,042.01 16,882,820.25\n",
       "27  tor 305.00 6,839,344.83  9,475,368.25 11,554,802.40 16,805,076.33\n",
       "28  uta 303.00 6,772,190.28  9,676,010.41 10,827,498.94 16,753,202.11\n",
       "12  lac 261.29 7,868,460.76 10,111,669.73 12,509,384.35 15,897,362.47\n",
       "26  sas 236.88 7,260,014.47  9,288,187.21  9,685,285.69 15,141,565.76\n",
       "29  was 318.91 5,955,223.64  9,719,110.72 12,257,729.14 14,518,926.36\n",
       "25  sac 288.86 5,603,805.76  9,957,254.75 12,048,161.07 14,319,942.48\n",
       "20  okc 289.71 7,871,786.18  7,950,696.36 10,168,722.25 13,930,850.41\n",
       "3   chi 224.25 7,166,602.12  8,976,370.47  9,845,469.30 13,922,436.31\n",
       "15  mia 267.33 7,463,432.83  8,229,848.71 11,234,264.93 13,570,703.33\n",
       "5   cle 359.48 5,238,012.76  9,309,374.81  9,838,865.01 12,429,085.80\n",
       "18  nop 232.19 7,344,314.75  9,305,935.05 11,548,726.42 12,106,884.31\n",
       "4   cho 265.00 7,774,946.69  8,579,786.71  9,264,799.45 12,076,521.81\n",
       "14  mem 303.36 5,155,316.04  8,653,632.97 10,671,205.14 11,838,664.36\n",
       "0   atl 287.35 5,718,886.00  8,131,855.92 10,431,799.40 11,266,322.25\n",
       "13  lal 268.79 6,599,975.11  9,745,784.30 12,741,171.67 10,947,392.37\n",
       "19  nyk 223.59 6,538,861.00  7,616,966.13 10,068,705.85 10,301,508.53\n",
       "8   det 298.73 5,937,674.32  8,815,361.78 12,421,127.84  8,346,862.91"
      ]
     },
     "execution_count": 32,
     "metadata": {},
     "output_type": "execute_result"
    }
   ],
   "source": [
    "#Team salary by Guaraneed\n",
    "salary_team=nba_df.groupby('Team',as_index=False).mean()\n",
    "salary_team.sort_values(by='Guaranteed', ascending=False)"
   ]
  },
  {
   "cell_type": "code",
   "execution_count": 33,
   "id": "8e8e5863",
   "metadata": {},
   "outputs": [
    {
     "data": {
      "image/png": "[encoded data removed]",
      "text/plain": [
       "<Figure size 1008x576 with 1 Axes>"
      ]
     },
     "metadata": {
      "needs_background": "light"
     },
     "output_type": "display_data"
    }
   ],
   "source": [
    "plt.figure(figsize=(14,8))\n",
    "color=sb.color_palette()[0]\n",
    "sb.barplot(data=salary_team, y='Team', x='Guaranteed',color=color);\n",
    "plt.xlabel('Guaranteed')\n",
    "plt.ylabel('Team name')\n",
    "plt.title('Player Guaranteed income by Team name')\n",
    "plt.xticks(rotation=90);"
   ]
  },
  {
   "cell_type": "code",
   "execution_count": 34,
   "id": "ef2f516f",
   "metadata": {},
   "outputs": [
    {
     "data": {
      "text/html": [
       "<div>\n",
       "<style scoped>\n",
       "    .dataframe tbody tr th:only-of-type {\n",
       "        vertical-align: middle;\n",
       "    }\n",
       "\n",
       "    .dataframe tbody tr th {\n",
       "        vertical-align: top;\n",
       "    }\n",
       "\n",
       "    .dataframe thead th {\n",
       "        text-align: right;\n",
       "    }\n",
       "</style>\n",
       "<table border=\"1\" class=\"dataframe\">\n",
       "  <thead>\n",
       "    <tr style=\"text-align: right;\">\n",
       "      <th></th>\n",
       "      <th>Team</th>\n",
       "      <th>Rank</th>\n",
       "      <th>2019-20</th>\n",
       "      <th>2020-21</th>\n",
       "      <th>2021-22</th>\n",
       "      <th>Guaranteed</th>\n",
       "    </tr>\n",
       "  </thead>\n",
       "  <tbody>\n",
       "    <tr>\n",
       "      <th>22</th>\n",
       "      <td>phi</td>\n",
       "      <td>264.71</td>\n",
       "      <td>7,663,126.29</td>\n",
       "      <td>11,963,285.90</td>\n",
       "      <td>14,775,558.29</td>\n",
       "      <td>37,523,317.35</td>\n",
       "    </tr>\n",
       "    <tr>\n",
       "      <th>24</th>\n",
       "      <td>por</td>\n",
       "      <td>276.11</td>\n",
       "      <td>7,312,067.89</td>\n",
       "      <td>9,244,857.36</td>\n",
       "      <td>12,929,729.10</td>\n",
       "      <td>28,443,006.26</td>\n",
       "    </tr>\n",
       "    <tr>\n",
       "      <th>7</th>\n",
       "      <td>den</td>\n",
       "      <td>259.50</td>\n",
       "      <td>8,184,138.00</td>\n",
       "      <td>10,855,597.24</td>\n",
       "      <td>13,740,685.89</td>\n",
       "      <td>28,133,715.25</td>\n",
       "    </tr>\n",
       "    <tr>\n",
       "      <th>9</th>\n",
       "      <td>gsw</td>\n",
       "      <td>386.65</td>\n",
       "      <td>6,576,396.50</td>\n",
       "      <td>10,259,689.02</td>\n",
       "      <td>11,947,068.38</td>\n",
       "      <td>28,092,493.10</td>\n",
       "    </tr>\n",
       "    <tr>\n",
       "      <th>11</th>\n",
       "      <td>ind</td>\n",
       "      <td>226.00</td>\n",
       "      <td>7,169,282.88</td>\n",
       "      <td>9,510,045.26</td>\n",
       "      <td>10,864,986.72</td>\n",
       "      <td>25,110,165.25</td>\n",
       "    </tr>\n",
       "    <tr>\n",
       "      <th>17</th>\n",
       "      <td>min</td>\n",
       "      <td>253.50</td>\n",
       "      <td>8,282,040.31</td>\n",
       "      <td>8,348,303.72</td>\n",
       "      <td>10,474,064.66</td>\n",
       "      <td>23,270,042.12</td>\n",
       "    </tr>\n",
       "    <tr>\n",
       "      <th>1</th>\n",
       "      <td>bos</td>\n",
       "      <td>284.00</td>\n",
       "      <td>6,734,755.94</td>\n",
       "      <td>9,373,417.57</td>\n",
       "      <td>11,249,583.79</td>\n",
       "      <td>19,264,158.72</td>\n",
       "    </tr>\n",
       "    <tr>\n",
       "      <th>16</th>\n",
       "      <td>mil</td>\n",
       "      <td>264.48</td>\n",
       "      <td>6,429,805.95</td>\n",
       "      <td>9,426,867.04</td>\n",
       "      <td>11,817,677.10</td>\n",
       "      <td>19,170,995.52</td>\n",
       "    </tr>\n",
       "    <tr>\n",
       "      <th>10</th>\n",
       "      <td>hou</td>\n",
       "      <td>337.71</td>\n",
       "      <td>6,217,377.90</td>\n",
       "      <td>10,691,818.14</td>\n",
       "      <td>13,627,405.91</td>\n",
       "      <td>18,888,113.95</td>\n",
       "    </tr>\n",
       "    <tr>\n",
       "      <th>6</th>\n",
       "      <td>dal</td>\n",
       "      <td>249.67</td>\n",
       "      <td>6,783,170.89</td>\n",
       "      <td>9,140,565.47</td>\n",
       "      <td>11,079,803.51</td>\n",
       "      <td>18,632,011.28</td>\n",
       "    </tr>\n",
       "    <tr>\n",
       "      <th>2</th>\n",
       "      <td>brk</td>\n",
       "      <td>340.96</td>\n",
       "      <td>5,291,497.46</td>\n",
       "      <td>10,540,331.36</td>\n",
       "      <td>12,952,237.97</td>\n",
       "      <td>18,618,065.21</td>\n",
       "    </tr>\n",
       "    <tr>\n",
       "      <th>23</th>\n",
       "      <td>pho</td>\n",
       "      <td>266.06</td>\n",
       "      <td>6,727,377.00</td>\n",
       "      <td>8,334,312.13</td>\n",
       "      <td>10,743,987.18</td>\n",
       "      <td>18,250,891.17</td>\n",
       "    </tr>\n",
       "    <tr>\n",
       "      <th>21</th>\n",
       "      <td>orl</td>\n",
       "      <td>274.80</td>\n",
       "      <td>6,661,025.75</td>\n",
       "      <td>9,868,271.11</td>\n",
       "      <td>11,886,042.01</td>\n",
       "      <td>16,882,820.25</td>\n",
       "    </tr>\n",
       "    <tr>\n",
       "      <th>27</th>\n",
       "      <td>tor</td>\n",
       "      <td>305.00</td>\n",
       "      <td>6,839,344.83</td>\n",
       "      <td>9,475,368.25</td>\n",
       "      <td>11,554,802.40</td>\n",
       "      <td>16,805,076.33</td>\n",
       "    </tr>\n",
       "    <tr>\n",
       "      <th>28</th>\n",
       "      <td>uta</td>\n",
       "      <td>303.00</td>\n",
       "      <td>6,772,190.28</td>\n",
       "      <td>9,676,010.41</td>\n",
       "      <td>10,827,498.94</td>\n",
       "      <td>16,753,202.11</td>\n",
       "    </tr>\n",
       "    <tr>\n",
       "      <th>12</th>\n",
       "      <td>lac</td>\n",
       "      <td>261.29</td>\n",
       "      <td>7,868,460.76</td>\n",
       "      <td>10,111,669.73</td>\n",
       "      <td>12,509,384.35</td>\n",
       "      <td>15,897,362.47</td>\n",
       "    </tr>\n",
       "    <tr>\n",
       "      <th>26</th>\n",
       "      <td>sas</td>\n",
       "      <td>236.88</td>\n",
       "      <td>7,260,014.47</td>\n",
       "      <td>9,288,187.21</td>\n",
       "      <td>9,685,285.69</td>\n",
       "      <td>15,141,565.76</td>\n",
       "    </tr>\n",
       "    <tr>\n",
       "      <th>29</th>\n",
       "      <td>was</td>\n",
       "      <td>318.91</td>\n",
       "      <td>5,955,223.64</td>\n",
       "      <td>9,719,110.72</td>\n",
       "      <td>12,257,729.14</td>\n",
       "      <td>14,518,926.36</td>\n",
       "    </tr>\n",
       "    <tr>\n",
       "      <th>25</th>\n",
       "      <td>sac</td>\n",
       "      <td>288.86</td>\n",
       "      <td>5,603,805.76</td>\n",
       "      <td>9,957,254.75</td>\n",
       "      <td>12,048,161.07</td>\n",
       "      <td>14,319,942.48</td>\n",
       "    </tr>\n",
       "    <tr>\n",
       "      <th>20</th>\n",
       "      <td>okc</td>\n",
       "      <td>289.71</td>\n",
       "      <td>7,871,786.18</td>\n",
       "      <td>7,950,696.36</td>\n",
       "      <td>10,168,722.25</td>\n",
       "      <td>13,930,850.41</td>\n",
       "    </tr>\n",
       "    <tr>\n",
       "      <th>3</th>\n",
       "      <td>chi</td>\n",
       "      <td>224.25</td>\n",
       "      <td>7,166,602.12</td>\n",
       "      <td>8,976,370.47</td>\n",
       "      <td>9,845,469.30</td>\n",
       "      <td>13,922,436.31</td>\n",
       "    </tr>\n",
       "    <tr>\n",
       "      <th>15</th>\n",
       "      <td>mia</td>\n",
       "      <td>267.33</td>\n",
       "      <td>7,463,432.83</td>\n",
       "      <td>8,229,848.71</td>\n",
       "      <td>11,234,264.93</td>\n",
       "      <td>13,570,703.33</td>\n",
       "    </tr>\n",
       "    <tr>\n",
       "      <th>5</th>\n",
       "      <td>cle</td>\n",
       "      <td>359.48</td>\n",
       "      <td>5,238,012.76</td>\n",
       "      <td>9,309,374.81</td>\n",
       "      <td>9,838,865.01</td>\n",
       "      <td>12,429,085.80</td>\n",
       "    </tr>\n",
       "    <tr>\n",
       "      <th>18</th>\n",
       "      <td>nop</td>\n",
       "      <td>232.19</td>\n",
       "      <td>7,344,314.75</td>\n",
       "      <td>9,305,935.05</td>\n",
       "      <td>11,548,726.42</td>\n",
       "      <td>12,106,884.31</td>\n",
       "    </tr>\n",
       "    <tr>\n",
       "      <th>4</th>\n",
       "      <td>cho</td>\n",
       "      <td>265.00</td>\n",
       "      <td>7,774,946.69</td>\n",
       "      <td>8,579,786.71</td>\n",
       "      <td>9,264,799.45</td>\n",
       "      <td>12,076,521.81</td>\n",
       "    </tr>\n",
       "    <tr>\n",
       "      <th>14</th>\n",
       "      <td>mem</td>\n",
       "      <td>303.36</td>\n",
       "      <td>5,155,316.04</td>\n",
       "      <td>8,653,632.97</td>\n",
       "      <td>10,671,205.14</td>\n",
       "      <td>11,838,664.36</td>\n",
       "    </tr>\n",
       "    <tr>\n",
       "      <th>0</th>\n",
       "      <td>atl</td>\n",
       "      <td>287.35</td>\n",
       "      <td>5,718,886.00</td>\n",
       "      <td>8,131,855.92</td>\n",
       "      <td>10,431,799.40</td>\n",
       "      <td>11,266,322.25</td>\n",
       "    </tr>\n",
       "    <tr>\n",
       "      <th>13</th>\n",
       "      <td>lal</td>\n",
       "      <td>268.79</td>\n",
       "      <td>6,599,975.11</td>\n",
       "      <td>9,745,784.30</td>\n",
       "      <td>12,741,171.67</td>\n",
       "      <td>10,947,392.37</td>\n",
       "    </tr>\n",
       "    <tr>\n",
       "      <th>19</th>\n",
       "      <td>nyk</td>\n",
       "      <td>223.59</td>\n",
       "      <td>6,538,861.00</td>\n",
       "      <td>7,616,966.13</td>\n",
       "      <td>10,068,705.85</td>\n",
       "      <td>10,301,508.53</td>\n",
       "    </tr>\n",
       "    <tr>\n",
       "      <th>8</th>\n",
       "      <td>det</td>\n",
       "      <td>298.73</td>\n",
       "      <td>5,937,674.32</td>\n",
       "      <td>8,815,361.78</td>\n",
       "      <td>12,421,127.84</td>\n",
       "      <td>8,346,862.91</td>\n",
       "    </tr>\n",
       "  </tbody>\n",
       "</table>\n",
       "</div>"
      ],
      "text/plain": [
       "   Team   Rank      2019-20       2020-21       2021-22    Guaranteed\n",
       "22  phi 264.71 7,663,126.29 11,963,285.90 14,775,558.29 37,523,317.35\n",
       "24  por 276.11 7,312,067.89  9,244,857.36 12,929,729.10 28,443,006.26\n",
       "7   den 259.50 8,184,138.00 10,855,597.24 13,740,685.89 28,133,715.25\n",
       "9   gsw 386.65 6,576,396.50 10,259,689.02 11,947,068.38 28,092,493.10\n",
       "11  ind 226.00 7,169,282.88  9,510,045.26 10,864,986.72 25,110,165.25\n",
       "17  min 253.50 8,282,040.31  8,348,303.72 10,474,064.66 23,270,042.12\n",
       "1   bos 284.00 6,734,755.94  9,373,417.57 11,249,583.79 19,264,158.72\n",
       "16  mil 264.48 6,429,805.95  9,426,867.04 11,817,677.10 19,170,995.52\n",
       "10  hou 337.71 6,217,377.90 10,691,818.14 13,627,405.91 18,888,113.95\n",
       "6   dal 249.67 6,783,170.89  9,140,565.47 11,079,803.51 18,632,011.28\n",
       "2   brk 340.96 5,291,497.46 10,540,331.36 12,952,237.97 18,618,065.21\n",
       "23  pho 266.06 6,727,377.00  8,334,312.13 10,743,987.18 18,250,891.17\n",
       "21  orl 274.80 6,661,025.75  9,868,271.11 11,886,042.01 16,882,820.25\n",
       "27  tor 305.00 6,839,344.83  9,475,368.25 11,554,802.40 16,805,076.33\n",
       "28  uta 303.00 6,772,190.28  9,676,010.41 10,827,498.94 16,753,202.11\n",
       "12  lac 261.29 7,868,460.76 10,111,669.73 12,509,384.35 15,897,362.47\n",
       "26  sas 236.88 7,260,014.47  9,288,187.21  9,685,285.69 15,141,565.76\n",
       "29  was 318.91 5,955,223.64  9,719,110.72 12,257,729.14 14,518,926.36\n",
       "25  sac 288.86 5,603,805.76  9,957,254.75 12,048,161.07 14,319,942.48\n",
       "20  okc 289.71 7,871,786.18  7,950,696.36 10,168,722.25 13,930,850.41\n",
       "3   chi 224.25 7,166,602.12  8,976,370.47  9,845,469.30 13,922,436.31\n",
       "15  mia 267.33 7,463,432.83  8,229,848.71 11,234,264.93 13,570,703.33\n",
       "5   cle 359.48 5,238,012.76  9,309,374.81  9,838,865.01 12,429,085.80\n",
       "18  nop 232.19 7,344,314.75  9,305,935.05 11,548,726.42 12,106,884.31\n",
       "4   cho 265.00 7,774,946.69  8,579,786.71  9,264,799.45 12,076,521.81\n",
       "14  mem 303.36 5,155,316.04  8,653,632.97 10,671,205.14 11,838,664.36\n",
       "0   atl 287.35 5,718,886.00  8,131,855.92 10,431,799.40 11,266,322.25\n",
       "13  lal 268.79 6,599,975.11  9,745,784.30 12,741,171.67 10,947,392.37\n",
       "19  nyk 223.59 6,538,861.00  7,616,966.13 10,068,705.85 10,301,508.53\n",
       "8   det 298.73 5,937,674.32  8,815,361.78 12,421,127.84  8,346,862.91"
      ]
     },
     "execution_count": 34,
     "metadata": {},
     "output_type": "execute_result"
    }
   ],
   "source": [
    "#Team salary by Guaraneed\n",
    "salary_team=nba_df.groupby('Team',as_index=False).mean()\n",
    "salary_team.sort_values(by='Guaranteed', ascending=False)"
   ]
  },
  {
   "cell_type": "code",
   "execution_count": 35,
   "id": "2a21e5cf",
   "metadata": {},
   "outputs": [
    {
     "data": {
      "text/html": [
       "<div>\n",
       "<style scoped>\n",
       "    .dataframe tbody tr th:only-of-type {\n",
       "        vertical-align: middle;\n",
       "    }\n",
       "\n",
       "    .dataframe tbody tr th {\n",
       "        vertical-align: top;\n",
       "    }\n",
       "\n",
       "    .dataframe thead th {\n",
       "        text-align: right;\n",
       "    }\n",
       "</style>\n",
       "<table border=\"1\" class=\"dataframe\">\n",
       "  <thead>\n",
       "    <tr style=\"text-align: right;\">\n",
       "      <th></th>\n",
       "      <th>Player</th>\n",
       "      <th>Rank</th>\n",
       "      <th>2019-20</th>\n",
       "      <th>2020-21</th>\n",
       "      <th>2021-22</th>\n",
       "      <th>Guaranteed</th>\n",
       "    </tr>\n",
       "  </thead>\n",
       "  <tbody>\n",
       "    <tr>\n",
       "      <th>455</th>\n",
       "      <td>stephen curry\\curryst01</td>\n",
       "      <td>1.00</td>\n",
       "      <td>40,231,758.00</td>\n",
       "      <td>43,006,362.00</td>\n",
       "      <td>45,780,966.00</td>\n",
       "      <td>129,019,086.00</td>\n",
       "    </tr>\n",
       "    <tr>\n",
       "      <th>69</th>\n",
       "      <td>chris paul\\paulch01</td>\n",
       "      <td>2.00</td>\n",
       "      <td>38,506,482.00</td>\n",
       "      <td>41,358,814.00</td>\n",
       "      <td>44,211,146.00</td>\n",
       "      <td>79,865,296.00</td>\n",
       "    </tr>\n",
       "    <tr>\n",
       "      <th>433</th>\n",
       "      <td>russell westbrook\\westbru01</td>\n",
       "      <td>3.00</td>\n",
       "      <td>38,178,000.00</td>\n",
       "      <td>41,006,000.00</td>\n",
       "      <td>43,848,000.00</td>\n",
       "      <td>123,032,000.00</td>\n",
       "    </tr>\n",
       "    <tr>\n",
       "      <th>218</th>\n",
       "      <td>james harden\\hardeja01</td>\n",
       "      <td>5.00</td>\n",
       "      <td>37,800,000.00</td>\n",
       "      <td>40,824,000.00</td>\n",
       "      <td>43,848,000.00</td>\n",
       "      <td>122,472,000.00</td>\n",
       "    </tr>\n",
       "    <tr>\n",
       "      <th>252</th>\n",
       "      <td>john wall\\walljo01</td>\n",
       "      <td>4.00</td>\n",
       "      <td>37,800,000.00</td>\n",
       "      <td>40,824,000.00</td>\n",
       "      <td>43,848,000.00</td>\n",
       "      <td>122,472,000.00</td>\n",
       "    </tr>\n",
       "    <tr>\n",
       "      <th>323</th>\n",
       "      <td>lebron james\\jamesle01</td>\n",
       "      <td>6.00</td>\n",
       "      <td>37,436,858.00</td>\n",
       "      <td>39,219,565.00</td>\n",
       "      <td>41,002,273.00</td>\n",
       "      <td>76,656,423.00</td>\n",
       "    </tr>\n",
       "    <tr>\n",
       "      <th>295</th>\n",
       "      <td>kevin durant\\duranke01</td>\n",
       "      <td>7.00</td>\n",
       "      <td>37,199,000.00</td>\n",
       "      <td>39,058,950.00</td>\n",
       "      <td>40,918,900.00</td>\n",
       "      <td>117,176,850.00</td>\n",
       "    </tr>\n",
       "    <tr>\n",
       "      <th>34</th>\n",
       "      <td>blake griffin\\griffbl01</td>\n",
       "      <td>8.00</td>\n",
       "      <td>34,234,964.00</td>\n",
       "      <td>36,595,996.00</td>\n",
       "      <td>38,957,028.00</td>\n",
       "      <td>70,830,960.00</td>\n",
       "    </tr>\n",
       "    <tr>\n",
       "      <th>311</th>\n",
       "      <td>kyle lowry\\lowryky01</td>\n",
       "      <td>9.00</td>\n",
       "      <td>33,296,296.00</td>\n",
       "      <td>30,000,000.00</td>\n",
       "      <td>11,534,705.22</td>\n",
       "      <td>63,296,296.00</td>\n",
       "    </tr>\n",
       "    <tr>\n",
       "      <th>408</th>\n",
       "      <td>paul george\\georgpa01</td>\n",
       "      <td>10.00</td>\n",
       "      <td>33,005,556.00</td>\n",
       "      <td>35,450,412.00</td>\n",
       "      <td>37,895,268.00</td>\n",
       "      <td>68,455,968.00</td>\n",
       "    </tr>\n",
       "  </tbody>\n",
       "</table>\n",
       "</div>"
      ],
      "text/plain": [
       "                          Player  Rank       2019-20       2020-21  \\\n",
       "455      stephen curry\\curryst01  1.00 40,231,758.00 43,006,362.00   \n",
       "69           chris paul\\paulch01  2.00 38,506,482.00 41,358,814.00   \n",
       "433  russell westbrook\\westbru01  3.00 38,178,000.00 41,006,000.00   \n",
       "218       james harden\\hardeja01  5.00 37,800,000.00 40,824,000.00   \n",
       "252           john wall\\walljo01  4.00 37,800,000.00 40,824,000.00   \n",
       "323       lebron james\\jamesle01  6.00 37,436,858.00 39,219,565.00   \n",
       "295       kevin durant\\duranke01  7.00 37,199,000.00 39,058,950.00   \n",
       "34       blake griffin\\griffbl01  8.00 34,234,964.00 36,595,996.00   \n",
       "311         kyle lowry\\lowryky01  9.00 33,296,296.00 30,000,000.00   \n",
       "408        paul george\\georgpa01 10.00 33,005,556.00 35,450,412.00   \n",
       "\n",
       "          2021-22     Guaranteed  \n",
       "455 45,780,966.00 129,019,086.00  \n",
       "69  44,211,146.00  79,865,296.00  \n",
       "433 43,848,000.00 123,032,000.00  \n",
       "218 43,848,000.00 122,472,000.00  \n",
       "252 43,848,000.00 122,472,000.00  \n",
       "323 41,002,273.00  76,656,423.00  \n",
       "295 40,918,900.00 117,176,850.00  \n",
       "34  38,957,028.00  70,830,960.00  \n",
       "311 11,534,705.22  63,296,296.00  \n",
       "408 37,895,268.00  68,455,968.00  "
      ]
     },
     "execution_count": 35,
     "metadata": {},
     "output_type": "execute_result"
    }
   ],
   "source": [
    "# let check the first ten players with high salary\n",
    "player_salary=nba_df.groupby('Player', as_index=False).mean()\n",
    "player_salary.sort_values(by='2019-20', ascending=False)[:10]"
   ]
  },
  {
   "cell_type": "markdown",
   "id": "22769276",
   "metadata": {},
   "source": [
    "#### Observation:\n",
    "From the table above stephen curry is the player with highest Average salary of 40,231,758.00 in year 2019-20"
   ]
  },
  {
   "cell_type": "code",
   "execution_count": 36,
   "id": "7cefca79",
   "metadata": {},
   "outputs": [
    {
     "data": {
      "text/html": [
       "<div>\n",
       "<style scoped>\n",
       "    .dataframe tbody tr th:only-of-type {\n",
       "        vertical-align: middle;\n",
       "    }\n",
       "\n",
       "    .dataframe tbody tr th {\n",
       "        vertical-align: top;\n",
       "    }\n",
       "\n",
       "    .dataframe thead th {\n",
       "        text-align: right;\n",
       "    }\n",
       "</style>\n",
       "<table border=\"1\" class=\"dataframe\">\n",
       "  <thead>\n",
       "    <tr style=\"text-align: right;\">\n",
       "      <th></th>\n",
       "      <th>Player</th>\n",
       "      <th>Rank</th>\n",
       "      <th>2019-20</th>\n",
       "      <th>2020-21</th>\n",
       "      <th>2021-22</th>\n",
       "      <th>Guaranteed</th>\n",
       "    </tr>\n",
       "  </thead>\n",
       "  <tbody>\n",
       "    <tr>\n",
       "      <th>156</th>\n",
       "      <td>eric mika\\mikaer01</td>\n",
       "      <td>557.00</td>\n",
       "      <td>50,752.00</td>\n",
       "      <td>9,384,835.40</td>\n",
       "      <td>11,534,705.22</td>\n",
       "      <td>50,752.00</td>\n",
       "    </tr>\n",
       "    <tr>\n",
       "      <th>347</th>\n",
       "      <td>marques bolden\\boldema01</td>\n",
       "      <td>560.00</td>\n",
       "      <td>50,752.00</td>\n",
       "      <td>9,384,835.40</td>\n",
       "      <td>11,534,705.22</td>\n",
       "      <td>50,752.00</td>\n",
       "    </tr>\n",
       "    <tr>\n",
       "      <th>522</th>\n",
       "      <td>zach norvell\\norveza01</td>\n",
       "      <td>558.00</td>\n",
       "      <td>50,752.00</td>\n",
       "      <td>9,384,835.40</td>\n",
       "      <td>11,534,705.22</td>\n",
       "      <td>50,752.00</td>\n",
       "    </tr>\n",
       "    <tr>\n",
       "      <th>448</th>\n",
       "      <td>sir'dominic pointer\\pointsi01</td>\n",
       "      <td>561.00</td>\n",
       "      <td>50,752.00</td>\n",
       "      <td>9,384,835.40</td>\n",
       "      <td>11,534,705.22</td>\n",
       "      <td>50,752.00</td>\n",
       "    </tr>\n",
       "    <tr>\n",
       "      <th>338</th>\n",
       "      <td>malik newman\\newmama01</td>\n",
       "      <td>559.00</td>\n",
       "      <td>50,752.00</td>\n",
       "      <td>9,384,835.40</td>\n",
       "      <td>11,534,705.22</td>\n",
       "      <td>50,752.00</td>\n",
       "    </tr>\n",
       "    <tr>\n",
       "      <th>514</th>\n",
       "      <td>william howard\\howarwi01</td>\n",
       "      <td>564.00</td>\n",
       "      <td>50,000.00</td>\n",
       "      <td>9,384,835.40</td>\n",
       "      <td>11,534,705.22</td>\n",
       "      <td>50,000.00</td>\n",
       "    </tr>\n",
       "    <tr>\n",
       "      <th>188</th>\n",
       "      <td>hollis thompson\\thompho01</td>\n",
       "      <td>567.00</td>\n",
       "      <td>50,000.00</td>\n",
       "      <td>9,384,835.40</td>\n",
       "      <td>11,534,705.22</td>\n",
       "      <td>50,000.00</td>\n",
       "    </tr>\n",
       "    <tr>\n",
       "      <th>499</th>\n",
       "      <td>tyler ulis\\ulisty01</td>\n",
       "      <td>568.00</td>\n",
       "      <td>50,000.00</td>\n",
       "      <td>9,384,835.40</td>\n",
       "      <td>11,534,705.22</td>\n",
       "      <td>50,000.00</td>\n",
       "    </tr>\n",
       "    <tr>\n",
       "      <th>498</th>\n",
       "      <td>tyler lydon\\lydonty01</td>\n",
       "      <td>566.00</td>\n",
       "      <td>50,000.00</td>\n",
       "      <td>9,384,835.40</td>\n",
       "      <td>11,534,705.22</td>\n",
       "      <td>50,000.00</td>\n",
       "    </tr>\n",
       "    <tr>\n",
       "      <th>195</th>\n",
       "      <td>isaiah taylor\\taylois01</td>\n",
       "      <td>565.00</td>\n",
       "      <td>50,000.00</td>\n",
       "      <td>9,384,835.40</td>\n",
       "      <td>11,534,705.22</td>\n",
       "      <td>50,000.00</td>\n",
       "    </tr>\n",
       "  </tbody>\n",
       "</table>\n",
       "</div>"
      ],
      "text/plain": [
       "                            Player   Rank   2019-20      2020-21  \\\n",
       "156             eric mika\\mikaer01 557.00 50,752.00 9,384,835.40   \n",
       "347       marques bolden\\boldema01 560.00 50,752.00 9,384,835.40   \n",
       "522         zach norvell\\norveza01 558.00 50,752.00 9,384,835.40   \n",
       "448  sir'dominic pointer\\pointsi01 561.00 50,752.00 9,384,835.40   \n",
       "338         malik newman\\newmama01 559.00 50,752.00 9,384,835.40   \n",
       "514       william howard\\howarwi01 564.00 50,000.00 9,384,835.40   \n",
       "188      hollis thompson\\thompho01 567.00 50,000.00 9,384,835.40   \n",
       "499            tyler ulis\\ulisty01 568.00 50,000.00 9,384,835.40   \n",
       "498          tyler lydon\\lydonty01 566.00 50,000.00 9,384,835.40   \n",
       "195        isaiah taylor\\taylois01 565.00 50,000.00 9,384,835.40   \n",
       "\n",
       "          2021-22  Guaranteed  \n",
       "156 11,534,705.22   50,752.00  \n",
       "347 11,534,705.22   50,752.00  \n",
       "522 11,534,705.22   50,752.00  \n",
       "448 11,534,705.22   50,752.00  \n",
       "338 11,534,705.22   50,752.00  \n",
       "514 11,534,705.22   50,000.00  \n",
       "188 11,534,705.22   50,000.00  \n",
       "499 11,534,705.22   50,000.00  \n",
       "498 11,534,705.22   50,000.00  \n",
       "195 11,534,705.22   50,000.00  "
      ]
     },
     "execution_count": 36,
     "metadata": {},
     "output_type": "execute_result"
    }
   ],
   "source": [
    "#least Ten player with lower average income 2019-20\n",
    "player_salary.sort_values(by='2019-20', ascending=False)[-10:]"
   ]
  },
  {
   "cell_type": "markdown",
   "id": "2e4f4f0b",
   "metadata": {},
   "source": [
    "#### Observation:\n",
    "From the table above William Howard, Hollis thompson,Tyler Ulis, Tyler Lydon and Isaiah Taylor are players with least average salaries in 2019-20."
   ]
  },
  {
   "cell_type": "markdown",
   "id": "65cf8e0d",
   "metadata": {},
   "source": [
    "### Summary of EDA\n",
    "* From the exploratory data analysis above, it is discovered that majorly all numerical columns contains significant numbers except player and rank column which is normally distributed. The 2021-22 salary column which happens to have the highest number of outliers might be as result of missing values which was replaced with the mean of the columns. \n",
    "\n",
    "* The Guaranteed and 2021-22 columns are mostly skewed. At the end of the analysis, it can be seen from the scatterplot that the player ranked as 1 is the highest paid player which also falls as one of the mostly paid player known as Stephen Curry. \n",
    "\n",
    "* It is also observed that the maximum salary contract has least amount of players signed to it, this may be as a result of the team capabilty to maintain the high price."
   ]
  },
  {
   "cell_type": "markdown",
   "id": "262da14c",
   "metadata": {},
   "source": [
    "#### Saving the cleaned dataset"
   ]
  },
  {
   "cell_type": "code",
   "execution_count": 37,
   "id": "a964e2a6",
   "metadata": {},
   "outputs": [],
   "source": [
    "cleaned_data = nba_df.to_csv('cleaned_data.csv', index=False)\n",
    "cleaned_data"
   ]
  },
  {
   "cell_type": "markdown",
   "id": "5d4efa3d",
   "metadata": {},
   "source": [
    "### Machine Learning Model"
   ]
  },
  {
   "cell_type": "code",
   "execution_count": 38,
   "id": "6fad696e",
   "metadata": {},
   "outputs": [],
   "source": [
    "# making a copy of the cleaned data to work with\n",
    "nba = nba_df.copy()"
   ]
  },
  {
   "cell_type": "code",
   "execution_count": 42,
   "id": "193c0fe6",
   "metadata": {},
   "outputs": [],
   "source": [
    "# converting categorical columns to numerical variables for training\n",
    "\n",
    "cat_cols = ['Signed Using', 'Player', 'Team']\n",
    "\n",
    "#load the LabelEncoder\n",
    "labelencoder = LabelEncoder()\n",
    "nba_df[cat_cols] = nba_df[cat_cols].apply(lambda col: labelencoder.fit_transform(col))\n",
    "\n",
    "#Load OneHotEncoder\n",
    "onehotencoder = OneHotEncoder()\n",
    "array_hot_encoded = onehotencoder.fit_transform(nba_df[cat_cols])\n",
    "data_hot_encoded = pd.DataFrame(array_hot_encoded, index=nba_df.index)\n",
    "\n",
    "data_other_cols = nba_df.drop(columns = cat_cols)\n",
    "data_out = pd.concat([data_hot_encoded, data_other_cols], axis=1)"
   ]
  },
  {
   "cell_type": "code",
   "execution_count": 43,
   "id": "d0bb78d1",
   "metadata": {},
   "outputs": [
    {
     "data": {
      "image/png": "[encoded data removed]",
      "text/plain": [
       "<Figure size 432x288 with 2 Axes>"
      ]
     },
     "metadata": {
      "needs_background": "light"
     },
     "output_type": "display_data"
    }
   ],
   "source": [
    "# display correlation between variables\n",
    "sb.heatmap(nba.corr(), cmap='coolwarm', annot=True);"
   ]
  },
  {
   "cell_type": "code",
   "execution_count": 44,
   "id": "6be96d33",
   "metadata": {},
   "outputs": [],
   "source": [
    "# normalize the dataset using min max scaler\n",
    "\n",
    "from sklearn.preprocessing import MinMaxScaler\n",
    "scaler = MinMaxScaler()\n",
    "normalized_df = pd.DataFrame(scaler.fit_transform(nba_df), columns=nba_df.columns)\n",
    "\n",
    "x = normalized_df[['Rank', 'Signed Using', 'Team']]\n",
    "y = normalized_df['2019-20']"
   ]
  },
  {
   "cell_type": "code",
   "execution_count": 45,
   "id": "8424de87",
   "metadata": {},
   "outputs": [],
   "source": [
    "from sklearn.model_selection import train_test_split\n",
    "from sklearn.linear_model import LinearRegression\n",
    "\n",
    "# split the normalized data into test and train set\n",
    "x_train, x_test, y_train, y_test = train_test_split(x, y, train_size=0.7, test_size = 0.3, random_state=42)"
   ]
  },
  {
   "cell_type": "code",
   "execution_count": 46,
   "id": "102e7d33",
   "metadata": {},
   "outputs": [],
   "source": [
    "#Define our model\n",
    "reg_model = LinearRegression()\n",
    "\n",
    "# fit the model\n",
    "reg_model.fit(x_train, y_train)\n",
    "\n",
    "# predict on test set\n",
    "predicted_value = reg_model.predict(x_test)"
   ]
  },
  {
   "cell_type": "code",
   "execution_count": 47,
   "id": "d11b3858",
   "metadata": {},
   "outputs": [
    {
     "data": {
      "text/plain": [
       "0.66"
      ]
     },
     "execution_count": 47,
     "metadata": {},
     "output_type": "execute_result"
    }
   ],
   "source": [
    "# find r2 score\n",
    "\n",
    "from sklearn.metrics import r2_score\n",
    "r2_score = r2_score(y_test, predicted_value)\n",
    "round(r2_score, 2)"
   ]
  },
  {
   "cell_type": "code",
   "execution_count": 48,
   "id": "858fed22",
   "metadata": {},
   "outputs": [
    {
     "data": {
      "text/plain": [
       "0.1"
      ]
     },
     "execution_count": 48,
     "metadata": {},
     "output_type": "execute_result"
    }
   ],
   "source": [
    "# evaluating the model based on mean absolute error\n",
    "from sklearn.metrics import mean_absolute_error\n",
    "mae = mean_absolute_error(y_test, predicted_value)\n",
    "round(mae, 2)"
   ]
  },
  {
   "cell_type": "markdown",
   "id": "594baafc",
   "metadata": {},
   "source": [
    "### Predicting the 2020 salaries based on previous salary 2019 and rank of the player"
   ]
  },
  {
   "cell_type": "markdown",
   "id": "bc78b31a",
   "metadata": {},
   "source": [
    "#### Using Linear Regression Model"
   ]
  },
  {
   "cell_type": "code",
   "execution_count": 49,
   "id": "e90d929b",
   "metadata": {},
   "outputs": [],
   "source": [
    "# predicting the 2020 salaries based on previous salary 2019 and rank of the player\n",
    "\n",
    "x1 = normalized_df[['Rank','2019-20']]\n",
    "y1 = normalized_df['2020-21']\n",
    "\n",
    "# split the normalized data into test and train set\n",
    "x1_train, x1_test, y1_train, y1_test = train_test_split(x1, y1, train_size=0.7, test_size = 0.3, random_state=42)"
   ]
  },
  {
   "cell_type": "code",
   "execution_count": 50,
   "id": "a945284c",
   "metadata": {},
   "outputs": [
    {
     "name": "stdout",
     "output_type": "stream",
     "text": [
      "The mean absolute error is 0.07\n",
      "The r-squared error is 0.84\n"
     ]
    }
   ],
   "source": [
    "#Define our model\n",
    "linear_model = LinearRegression()\n",
    "\n",
    "# fit the model\n",
    "linear_model.fit(x1_train, y1_train)\n",
    "\n",
    "# predict on test set\n",
    "pred_value = linear_model.predict(x1_test)\n",
    "\n",
    "# evaluating the model based on mean absolute error\n",
    "from sklearn.metrics import mean_absolute_error\n",
    "mae1 = mean_absolute_error(y1_test, pred_value)\n",
    "print(\"The mean absolute error is\", round(mae1, 2))\n",
    "\n",
    "# find r2 score\n",
    "from sklearn.metrics import r2_score\n",
    "r2_score = r2_score(y_test, pred_value)\n",
    "print('The r-squared error is', round(r2_score, 2))"
   ]
  },
  {
   "cell_type": "markdown",
   "id": "a42e5ce9",
   "metadata": {},
   "source": [
    "#### Using Decision Tree Algorithm"
   ]
  },
  {
   "cell_type": "code",
   "execution_count": 51,
   "id": "51e7afc4",
   "metadata": {},
   "outputs": [
    {
     "name": "stdout",
     "output_type": "stream",
     "text": [
      "The mean absolute error is 0.07\n"
     ]
    }
   ],
   "source": [
    "from sklearn.tree import DecisionTreeRegressor\n",
    "from sklearn.metrics import mean_squared_error\n",
    "\n",
    "# Fit decision tree model\n",
    "model = DecisionTreeRegressor()\n",
    "model.fit(x1_train, y1_train)\n",
    "\n",
    "# evaluating the model based on mean absolute error\n",
    "from sklearn.metrics import mean_absolute_error\n",
    "mae1 = mean_absolute_error(y1_test, pred_value)\n",
    "print(\"The mean absolute error is\", round(mae1, 2))"
   ]
  },
  {
   "cell_type": "code",
   "execution_count": 52,
   "id": "1d9704c6",
   "metadata": {},
   "outputs": [
    {
     "name": "stdout",
     "output_type": "stream",
     "text": [
      "The R-squared error 0.75\n"
     ]
    }
   ],
   "source": [
    "# evaluate the model based on R2 score\n",
    "from sklearn.metrics import r2_score\n",
    "r2_score = r2_score(y1_test, pred_value)\n",
    "print('The R-squared error', round(r2_score, 2))"
   ]
  },
  {
   "cell_type": "markdown",
   "id": "613b865a",
   "metadata": {},
   "source": [
    "### Conclusion"
   ]
  },
  {
   "cell_type": "markdown",
   "id": "5bdb4ada",
   "metadata": {},
   "source": [
    "* Two machine learning linear algorithms are used to carry our prediction, the linear regression and the decision tree algorithm. The first model developed is used to predict the 2019-20 salaries of the players. A mean absolute error of 0.1 and R-squared error of 0.65 is obtained\n",
    "\n",
    "* The second and third model developed is to predict the salries of the 2020-21 season. The rank and the previous season salary is used. The model developed with the linear regression algorithm had a higher coefficient of determination (R2) of 0.84 and and a mean absolute error of 0.07. The linear regression performed better than the decision tree algorithm in terms of R2 error.\n",
    "\n",
    "* In conclusion, from the predictions made above it can be further deduced that a players salary will increase as the season increases especially for top players. Due to the limitation of insufficient independent variables and presence of missing data, predictions made are based on salaries of previous year and the rank of the player. "
   ]
  },
  {
   "cell_type": "code",
   "execution_count": null,
   "id": "10b69048",
   "metadata": {},
   "outputs": [],
   "source": []
  }
 ],
 "metadata": {
  "kernelspec": {
   "display_name": "Python 3 (ipykernel)",
   "language": "python",
   "name": "python3"
  },
  "language_info": {
   "codemirror_mode": {
    "name": "ipython",
    "version": 3
   },
   "file_extension": ".py",
   "mimetype": "text/x-python",
   "name": "python",
   "nbconvert_exporter": "python",
   "pygments_lexer": "ipython3",
   "version": "3.9.7"
  }
 },
 "nbformat": 4,
 "nbformat_minor": 5
}
